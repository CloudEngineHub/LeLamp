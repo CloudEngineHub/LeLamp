{
 "cells": [
  {
   "cell_type": "markdown",
   "id": "e956363f",
   "metadata": {},
   "source": [
    "# LeLamp with Gymnasium and Mujoco"
   ]
  },
  {
   "cell_type": "markdown",
   "id": "43663803",
   "metadata": {},
   "source": [
    "## Dependencies"
   ]
  },
  {
   "cell_type": "code",
   "execution_count": 10,
   "id": "1d435ab2",
   "metadata": {},
   "outputs": [
    {
     "name": "stdout",
     "output_type": "stream",
     "text": [
      "env: MUJOCO_GL=egl\n"
     ]
    }
   ],
   "source": [
    "%env MUJOCO_GL=egl"
   ]
  },
  {
   "cell_type": "code",
   "execution_count": 11,
   "id": "0cf1f4eb",
   "metadata": {},
   "outputs": [],
   "source": [
    "import mujoco\n",
    "import numpy as np\n",
    "\n",
    "from gymnasium import utils\n",
    "from gymnasium.envs.mujoco import MujocoEnv\n",
    "from gymnasium.spaces import Box"
   ]
  },
  {
   "cell_type": "markdown",
   "id": "13fe0dbd",
   "metadata": {},
   "source": [
    "## Configurations"
   ]
  },
  {
   "cell_type": "code",
   "execution_count": 12,
   "id": "660bcc40",
   "metadata": {},
   "outputs": [],
   "source": [
    "DEFAULT_CAMERA_CONFIG = {\n",
    "    \"trackbodyid\": -1,\n",
    "    \"distance\": 4.0,\n",
    "}"
   ]
  },
  {
   "cell_type": "markdown",
   "id": "1af1c4c7",
   "metadata": {},
   "source": [
    "## Environment"
   ]
  },
  {
   "cell_type": "code",
   "execution_count": 25,
   "id": "d55762bb",
   "metadata": {},
   "outputs": [],
   "source": [
    "MODEL_PATH = \"../models/lelamp/scene.xml\"\n",
    "\n",
    "class LeLampEnv(MujocoEnv, utils.EzPickle):\n",
    "    metadata = {\n",
    "        \"render_modes\": [\n",
    "            \"human\",\n",
    "            \"rgb_array\",\n",
    "            \"depth_array\",\n",
    "            \"rgbd_tuple\"\n",
    "        ],\n",
    "        \"render_fps\": 20,\n",
    "    }\n",
    "\n",
    "    def __init__(\n",
    "            self,\n",
    "            forward_reward_weight=1.0,\n",
    "            healthy_reward=5.0,\n",
    "            terminate_when_unhealthy=True,\n",
    "            healthy_z_range=(0.2, 1.0),\n",
    "            reset_noise_scale=1e-2,\n",
    "            **kwargs\n",
    "    ):\n",
    "        # Store reward parameters\n",
    "        self._forward_reward_weight = forward_reward_weight\n",
    "        self._healthy_reward = healthy_reward\n",
    "        self._terminate_when_unhealthy = terminate_when_unhealthy\n",
    "        self._healthy_z_range = healthy_z_range\n",
    "        self._reset_noise_scale = reset_noise_scale\n",
    "\n",
    "        # Initialize EzPickle\n",
    "        utils.EzPickle.__init__(\n",
    "            self,\n",
    "            forward_reward_weight=forward_reward_weight,\n",
    "            healthy_reward=healthy_reward,\n",
    "            terminate_when_unhealthy=terminate_when_unhealthy,\n",
    "            healthy_z_range=healthy_z_range,\n",
    "            reset_noise_scale=reset_noise_scale,\n",
    "            **kwargs\n",
    "        )\n",
    "\n",
    "        # Init the observation space\n",
    "        obs_size = 5 + 5 + 6\n",
    "        self.observation_space = Box(\n",
    "            low=-np.inf, high=np.inf, shape=(obs_size,), dtype=np.float32\n",
    "        )\n",
    "\n",
    "        # Initialize the Mujoco environment\n",
    "        MujocoEnv.__init__(\n",
    "            self,\n",
    "            MODEL_PATH,\n",
    "            5,\n",
    "            observation_space=self.observation_space,\n",
    "            **kwargs\n",
    "        )\n",
    "\n",
    "        # Store previous COM position for velocity calculation\n",
    "        self._prev_com = None\n",
    "\n",
    "    def _calculate_observation_size(self):\n",
    "        n_joints = self.model.nq - 7\n",
    "        n_vel = self.model.nv - 6\n",
    "        n_sensors = self.model.n_sensor\n",
    "\n",
    "        return n_joints + n_vel + n_sensors\n",
    "\n",
    "    def _get_obs(self):\n",
    "        \"\"\"Get current observation.\"\"\"\n",
    "        # Joint positions (excluding free joint if present)\n",
    "        # You may need to adjust the slicing based on your model\n",
    "        position = self.data.qpos[7:].copy()\n",
    "\n",
    "        # Joint velocities (excluding free joint if present)  \n",
    "        velocities = self.data.qvel[6:].copy()\n",
    "\n",
    "        # Sensor data\n",
    "        sensor_data = self.data.sensordata[:6].copy()\n",
    "\n",
    "        return np.concatenate([position, velocities, sensor_data]).astype(np.float32)\n",
    "    \n",
    "    def reset_model(self):\n",
    "        \"\"\"Reset the model to a random state.\"\"\"\n",
    "        # Add noise to initial positions and velocities\n",
    "        noise_low = -self._reset_noise_scale\n",
    "        noise_high = self._reset_noise_scale\n",
    "        \n",
    "        # Add noise to initial joint positions\n",
    "        qpos = self.init_qpos + self.np_random.uniform(\n",
    "            low=noise_low,\n",
    "            high=noise_high,\n",
    "            size=self.model.nq,\n",
    "        )\n",
    "\n",
    "        # Add noise to initial joint velocities  \n",
    "        qvel = self.np_random.uniform(\n",
    "            low=noise_low,\n",
    "            high=noise_high,\n",
    "            size=self.model.nv,\n",
    "        )\n",
    "\n",
    "        # Set the state\n",
    "        self.set_state(qpos, qvel)\n",
    "\n",
    "        # Reset previous COM tracking\n",
    "        self._prev_com = None\n",
    "\n",
    "        return self._get_obs()\n",
    "    \n",
    "    def step(self, action):\n",
    "        \"\"\"Perform a step in the environment.\"\"\"\n",
    "\n",
    "        # Get body ID for the lamp\n",
    "        body_id = mujoco.mj_name2id(self.model, mujoco.mjtObj.mjOBJ_BODY, \"dc15_a01_dummy_assy_idle_asm\")\n",
    "\n",
    "        # Store COM\n",
    "        com_before = self.data.subtree_com[body_id].copy()\n",
    "\n",
    "        # Perform the action\n",
    "        self.do_simulation(action, self.frame_skip)\n",
    "\n",
    "        # Get the new COM position\n",
    "        com_after = self.data.subtree_com[body_id].copy()\n",
    "\n",
    "        # Calculate velocity (COM change over time)\n",
    "        velocity = (com_after - com_before) / self.dt\n",
    "        \n",
    "        # Forward reward\n",
    "        forward_reward = self._forward_reward_weight * velocity[0]\n",
    "\n",
    "        # Healthy reward\n",
    "        lamp_head_id = mujoco.mj_name2id(\n",
    "            self.model,\n",
    "            mujoco.mjtObj.mjOBJ_BODY,\n",
    "            \"lamp_head\"\n",
    "        )\n",
    "        lamp_head_pos = self.data.xpos[lamp_head_id]\n",
    "\n",
    "        min_z, max_z = self._healthy_z_range\n",
    "        is_healthy = (min_z <= lamp_head_pos[2] <= max_z)\n",
    "        healthy_reward = self._healthy_reward if is_healthy else 0.0\n",
    "\n",
    "        # Calculate total reward\n",
    "        reward = forward_reward + healthy_reward\n",
    "\n",
    "        # Check if episode should terminate\n",
    "        terminated = False\n",
    "        if self._terminate_when_unhealthy and not is_healthy:\n",
    "            terminated = True\n",
    "\n",
    "        # Get observation\n",
    "        observation = self._get_obs()\n",
    "\n",
    "        # Render if in human mode\n",
    "        if self.render_mode == \"human\":\n",
    "            self.render()\n",
    "\n",
    "                # Create info dict with metrics\n",
    "        info = {\n",
    "            'forward_reward': forward_reward,\n",
    "            'reward_linvel': forward_reward,\n",
    "            'reward_alive': healthy_reward,\n",
    "            'x_position': com_after[0],\n",
    "            'y_position': com_after[1],\n",
    "            'distance_from_origin': np.linalg.norm(com_after),\n",
    "            'x_velocity': velocity[0],\n",
    "            'y_velocity': velocity[1],\n",
    "        }\n",
    "\n",
    "        # Return (observation, reward, terminated, truncated, info)\n",
    "        return observation, reward, terminated, False, info"
   ]
  },
  {
   "cell_type": "markdown",
   "id": "07c7dad5",
   "metadata": {},
   "source": [
    "## Test Environment"
   ]
  },
  {
   "cell_type": "code",
   "execution_count": 14,
   "id": "a98aecfe",
   "metadata": {},
   "outputs": [
    {
     "data": {
      "text/plain": [
       "(array([-0.00998175, -0.00189848,  0.00720532, -0.00654438, -0.0050232 ,\n",
       "         0.00258104, -0.00840592, -0.0038323 , -0.00013813,  0.00987807,\n",
       "        -0.01093672,  0.02229953,  0.09236985, -0.00599872,  0.00309877,\n",
       "         0.00786889]),\n",
       " {})"
      ]
     },
     "execution_count": 14,
     "metadata": {},
     "output_type": "execute_result"
    }
   ],
   "source": [
    "env = LeLampEnv()\n",
    "\n",
    "obs, info = env.reset()\n",
    "\n",
    "obs, info"
   ]
  },
  {
   "cell_type": "code",
   "execution_count": 15,
   "id": "c0bc3e93",
   "metadata": {},
   "outputs": [
    {
     "name": "stdout",
     "output_type": "stream",
     "text": [
      "✓ Step successful. Reward: 4.9962\n",
      "  Terminated: False, Truncated: False\n",
      "  Info: {'forward_reward': np.float64(-0.003756489504710605), 'reward_linvel': np.float64(-0.003756489504710605), 'reward_alive': 5.0, 'x_position': np.float64(0.006174889324609028), 'y_position': np.float64(0.011154097514273383), 'distance_from_origin': np.float64(0.10917730677951851), 'x_velocity': np.float64(-0.003756489504710605), 'y_velocity': np.float64(-0.014283630241475574)}\n"
     ]
    }
   ],
   "source": [
    "# Test single step\n",
    "action = env.action_space.sample()\n",
    "obs, reward, terminated, truncated, info = env.step(action)\n",
    "print(f\"✓ Step successful. Reward: {reward:.4f}\")\n",
    "print(f\"  Terminated: {terminated}, Truncated: {truncated}\")\n",
    "print(f\"  Info: {info}\")"
   ]
  },
  {
   "cell_type": "code",
   "execution_count": 21,
   "id": "ef0056f0",
   "metadata": {},
   "outputs": [
    {
     "name": "stdout",
     "output_type": "stream",
     "text": [
      "Episode ended at step 11\n",
      "Collected 11 frames\n",
      "Total reward: 51.592\n"
     ]
    },
    {
     "data": {
      "text/html": [
       "<table class=\"show_videos\" style=\"border-spacing:0px;\"><tr><td style=\"padding:1px;\"><video controls width=\"480\" height=\"480\" style=\"object-fit:cover;\" loop autoplay muted>\n",
       "      <source src=\"data:video/mp4;base64,AAAAIGZ0eXBpc29tAAACAGlzb21pc28yYXZjMW1wNDEAAAAIZnJlZQAAcDdtZGF0AAACgAYF//983EXpvebZSLeWLNgg2SPu73gyNjQgLSBjb3JlIDE2NCByMzEwOCAzMWUxOWY5IC0gSC4yNjQvTVBFRy00IEFWQyBjb2RlYyAtIENvcHlsZWZ0IDIwMDMtMjAyMyAtIGh0dHA6Ly93d3cudmlkZW9sYW4ub3JnL3gyNjQuaHRtbCAtIG9wdGlvbnM6IGNhYmFjPTEgcmVmPTMgZGVibG9jaz0xOjA6MCBhbmFseXNlPTB4MzoweDExMyBtZT1oZXggc3VibWU9NyBwc3k9MSBwc3lfcmQ9MS4wMDowLjAwIG1peGVkX3JlZj0xIG1lX3JhbmdlPTE2IGNocm9tYV9tZT0xIHRyZWxsaXM9MSA4eDhkY3Q9MSBjcW09MCBkZWFkem9uZT0yMSwxMSBmYXN0X3Bza2lwPTEgY2hyb21hX3FwX29mZnNldD0tMiB0aHJlYWRzPTE1IGxvb2thaGVhZF90aHJlYWRzPTIgc2xpY2VkX3RocmVhZHM9MCBucj0wIGRlY2ltYXRlPTEgaW50ZXJsYWNlZD0wIGJsdXJheV9jb21wYXQ9MCBjb25zdHJhaW5lZF9pbnRyYT0wIGJmcmFtZXM9MyBiX3B5cmFtaWQ9MiBiX2FkYXB0PTEgYl9iaWFzPTAgZGlyZWN0PTEgd2VpZ2h0Yj0xIG9wZW5fZ29wPTAgd2VpZ2h0cD0yIGtleWludD0yNTAga2V5aW50X21pbj0yMCBzY2VuZWN1dD00MCBpbnRyYV9yZWZyZXNoPTAgcmM9Y3FwIG1idHJlZT0wIHFwPTIwIGlwX3JhdGlvPTEuNDAgcGJfcmF0aW89MS4zMCBhcT0wAIAAADHWZYiEAP9+Vk3TM3SNIazsKFpILaEg2oQhyTfRZInZ4mLCRFVUvyf69UQ453OVBNT1kagqQm+kXm+KVlTYiFr7hwdxqxEom95Vo118jxk9/ewpdEbthcnRjhLh+CLspXpceVN4hr3F+SaRQNPElfg3FzxUsYsOVPaF4AmaBc57y2oKg0FF1WiK3LDduXy3EPqQC5WE9iQdcs+U6AY2x6CAOMfa20BF5IaHgM3qU7PrKEBMcGf3fsrTIa/Xa363nJ4+wVnie2+9rjvPF7+qJaHLIV/0JZFeGuueHm6KBX9xRVVwKJZajAHr9+Vk89pDa1SLWXE9bxQ0i6BttgL2wOB4zY6J5gx2emq8fPp+h6qC8sJemiTxTxMuvXIbU1I++XVROcIn7gkBeTx+hQvNdatbIZ0E58pC8X/CUTcKbBayUpEalJxv7dBGf+P+1AEkEvMej2T854uhA5/ztVtWPta4KtTnznbMynDbpCFTTIep43y83956d+KUGKiSog/7sbYWY68KYbI37fF3Fh1/Go3nNEABrbO2aLbflrBPHmjRBDoSzeSx1FwK/3jFs+HmbsxcJrP3eiyAm4zJBDbRJs5yoMbKPuZXAr1AqYuc/FrhMmXuK78eulKbFG20z2LJdLeqVN8MX9tnbxBMS5rpFHkCBk3IQ4u92LDqenjKkF4e4NGdHD77zU6TjhHGLf4KiOaBJV8RALE56wc7B4T2L9Ciy8PPSCjZ7GwHBzZtIZ01iSX3bn1xUdXjl5HRlruoRMgmCLsNDlV+rlsG5Ip5S66D5n4zB5uvDoit9tUn5umDB8n+ISXMzR4EfB4JMORlqZlr9GsdAyU9dEcVTM3KyvKtg4HLlGcIJNX1otSk0ASPnMFUm2toDtLWpDfGLzSkyPMXT2Namdn94YUAoliYaFyJARAUifUy6j99/I6n4wr0IaX0N7GN6EwSGweXqEDzryQ4mRTIvm+kcLqJvTFOAB5ZY1ZIH6bJgT9PVBNTsMsxJXw4bO8xUYfFxoAu+RU6QMGUlJQ94yVoI4rCQiXtWw4Mig14Rq4BOlTO/pfQfMtMjy2mcLuii49auQN6DPJhEd/Bt8YJ2GVb++aGJp9sbdrh1wRij+nKjb/eVgkqwdEtPieu57QygbFRtKgzXiwKtGCO/H86IQqbZKsbe5X95UJZ6sRXObuArFfT3mxlUD9Suw9vuKJAshLZW0srYZ1EYqayqaddIhCU2o1eltmarnuHCZgY+JB4G7HVBgJ5Gwq7z3p4y27jEHa8fI/3yLcZxp1hOLQld/rQE23fMwgjNOSdxM/zV1qnrOl/+0jHKfKHhQXkJq6oGKX8dE5Q63ZANv9Q1L42Mm55LkLw1VOa/5xoIr9WolcTU02VjxgBj0vvQ3gai0QWbps50svXGOoKdfn9+UGKAjsKqnVzlEUkjPSpx7U+o9vncFGs1l02wEW0w211JWiU2rs7i28iyGfji8FauP9EJFjFmyuGbfg2xXfxYqSOJPWvcqYbe+u7Nw+H8rM+cFcBjPWzIu99SxT/ryHEYdUU/SBr7QSal+JLugtqcKV7X2fN2/f18jKXojzRdcVeUORlPZu9PBoGrtOqsKwj/tcHh6S3n7lTMnIiQWd4bQ64Wpkt1MmMqQY0eOn8Kl+QeDk4JERC2BG5BbDNLmm9v9yHFArPM0w8F572uqab15J6/Y4v6lZq/MrMew2Y5wh0acHwr+2mWXBDZHTZKLviklQ8QqFFw4ovRYXBpQWYFw3FBA+3pQxlmm6MibfkYi5gBYui3tW/ScJqek6MHI8BeCAkVNSdzRacGiF2XJqCG13hkbT0XUKSweYPaMoDOuaWHQDOocPPaFCipYncsf2BQmctt4RY8L7noiFMWhd/fQdANNVDwQlzzqw95z0qFCFSFC0bSFJnNB7WU6YGcI/bTn6ysbG9+uK8ljmIxRW9vOEoiHOBjSEh8NbrmmfiqIRd3zFhG3XTWcX0FZPni6We6cNsMQ6oHRANS0NAn1Px+DxOxwjnwVb1ZuA8LIq8KhNiXXX+f5+wtMBfuchAR74/ywDPZwnhoPtjvh0wpzXjU6x2XYJstwLkOEsiukUX/BJ19+V3351k14/H+PLfpwD5cDiN8IE9JHNIdqsOEp3OgkWoy6mR/Za52RZK65OUHV5d1I3GxjHtYw8IbSoIKK0lZXlrYs0xb+knycI+MkDFFQPwHbUJaMJe+hyogQ0PiqRfxJ4x3lDrDub/OrqvorjgGip7sC6sEV9jzqCYnOf0d477XiQ5OLveT1OHbzpmCUdFjBsopa5E8nOTix9LEMliECR1jegvlZLQkSnRchKAXjA9ONRyZAjl8ctxgx0X859dktGn8FM/kATBXPpROUJIfLPt56xqlWoIcbUf+aVD4X68gANzS70RoWAHnlcaxJKFtOwAb+IRKuiuP39JX1Qd5LcpZEgsTRW5M1OpHqx+cheWQa3RUJb2evWvREh9xeXZjcXVa2MyiXTEgcDE7HYQ2iKZK83ew2QAXi5ejwKIShuyuWgFcHHnTujBhUpb498EFawVGk7nu11Tw6Gb6FUXghzrew9y4GmOw1luMolijJhJ47NvDec6Yc6jKyqqfTji7fXiATWtUl9ud08eukxQvJMA3lONUQa7ycOCIylQ7+Pz6yYzkuO/hGVPsjF8186NtLEX+MJNa9W8NMjunpgsqpT2b7kwCFpjzL0ltBmVPMAKvJY6ljYpl1D0S1hye1Z63XCxfYvMDlgJTO4MLAIrX9q7XzqkDMgpAblxOWfLOwNwOk2eGLRbEK4/0RXiG5E5UUdeZ0i1yF0ytP6ekaUkm5O0qlwA3xwDNQcTZ2k/dViIpztDWBb5aLrXacZjnb8/fAcTgQXtz31NH0+PW9VKDNYBEudOUu+rzOKbazjDTwKjLlqWQ3SnLx7VhdArWQTlDYmfsZW1XFu5qkT7zPHwiXrce4Wr9M+NyaqhmyWUKkd2Wd7fhd261S6XBJbbcDfDi82qCGX3BXVKHVxvK5SvaT+ibiRrls6U7WhH/yHOvXH5xsOuyGuJk8w7zXT6GewnZrOVSfPg6AciVZ8S5G4hFsn85hzODpv2ewnBBGXsAkYJ/E0jbpI6UN8us275rokM6WW35oP9tdmiSACu3Fi3OLkwJXHerkGvw7qFhXnjDlrur8/vFNyVulxzvyXvwYX1NWEyHXFI2hZOShfeSrk8waYBAReNnAM34w5r9ISalNHfaPGhf2r4mVsSpUCCGOUpd6vT2dxoLkBYOySXk84UmaIgBjy5k3ZRUjgHkP4T74VKh7JloU6V0SF/sVFebYp4n85QYf05sfD2QX1NtGlE4g/eFHsJbeOhMOtHer/UBxJgfUZStw7SxL9tbcG91CfDEhXj2VCh+OzmH0ZpMVuA24u3+ao/WLqqTYO4pmyYA5nG0aKI3gY+G3J0ThjhXHI6zx+VmKHtSrH2DHE5t3sQaA0Q0RMW1R9Wl1e49/52JAyyO1ivL2k4hvdIBFgxrlLWw3vstSfYEeT3zRgfvri1Rz1Qm8+bX+hSidB1rqpTXLpsM3pgbED3E9HHiDH2TXC6Pd2Azzl+kwExBkNVCFJqif8iGk/BbJTtMgEB7nvevXeV0b0huCyRd5DwLrqntSQAEg39nAy0tlvWZuK97Ts3Xkq6Kv57HGW2s0ScLCGCeSwcd7sxmVsUMiR9XbNDk6WderMAAQv/afTDk78rOdut+Sh+Bk1gMJ0Pxk5QD66Xr/bKzHk/hq3TJq71Zeu+BEgIqZ9+7gYndsVKn2/gslj7j2U3c1Op9I8yX6jZnmAMCpoLBt63EopEQJDuTYaTEOECewRE/QTc/QrYEASSj+vK0Bw47MeCrGnAROe8XFLWC/2Hdy4hwjR9D34GlRQGFKOMrAIyFlpS+b6C4/6c2huw+/mEtmB1VhlZsc4GRSnzNLsEWZgPJN00T7nHVm9T8gASQ6+aU+i/G+AiGBgL1gNH4rekbUQCGDKNIhqU4FbvE47aBeIP/q1vfIvdVPFMFkE/c/Aghu0QQaCN6Kni7amCaSFsuI4G5GMnRtp4y5RLI51D3h619BXSC3zlhu0mVkhq5vlHBZFxan2VILKQ+mZcohChw1DqUSnD0/eNjsZriKaGY1vevf0xkcivw3RTM+kz/JhLgqo1BQ6EOX77S5ofz7oH7Y3MuiyNj0zs6sYMT/yqdryYNnFFmH0OwqJD+nZ5F6mwjoLwJGB0B2dH5tpToErdaeGEmeszja572328OF2zWH9qBE7RVcjBBA/HtMb4YWUWUf6YDPxU/03mIhI+9CikAQEJtj0zxnuAXr1d1oKDqCkhBopPEVW4T5hXNvMPlpBd7C5uBqpArRCccQrPl0XdrgmzBgK8nkywUeKVEQO78JZT8/TK/FQG/g//fz8Pk3HoDN2n9I2icWePvndkEETsMpRYrjba1jyTPH7ajkGVR87sDYYIiN898BJLaDFrhlB9Cd35poHRXZ+y/1V81qmbhLQLA23EwNQNMrpRqyT+z/B8lDNEs+/YNL7rcWk60xnduZB7XjFV3buJw1QUUOXxL1uL1eWEAlJwcAehj7cbyycyPMHUdIM0XPy3EV/ImCvqdMrhZ2D7yFOLKh3iJrOPnptwf8fQ3Avbd1Rnm2xSAlQsarNgVJzrlIqRgkRkJqJd5o9n9Y9QIro1hwJU+JRxhnnbpaiyRKoCL6qz1s2v0tLMLE5J3v3GjQ2mpTGx+3/3DLYz6Aors9VwagmNHhJR1BKHxlvdR3jPPY7yO9D9lASoRjWiZinNqM5ybf25+vwq3FoBVgoJMV8EDsoBGHFAtoIdiMkiLafWVvzRCOd2dpksj1uzfwS/cpQQUHxoNU7Q2jkBBsoetyg7kB6xgWY9dey5Xwe+mVBi56oXrFglSWE0l2+zI3/tLaiVzeE9huYfxuGppbxuqKVoSkCCuqWRXIxozG6sdff0E2sen9HvzCr0ybDcSSQTSYyGozIULlp6e3rmKmK+aeclPpo+V9DfGmC59zMwj03fNZhDVi0i8PqZjXxrHNAhuOCjkb9x3fu48rJDrJhPuG7MsbibEf+SvSTEI6TRoFAY4OjxNmR4QMhNGG2bGDV6YoBmqiA+8UiidTM0IMT3sdeXgUQ/DgBFT6HcNTVLDvnDqXN6JlDTxZXyeCLJOiHIL77O27rlHpahb1mE/fHy9L65yQArw17LNzwKSnVY0YjKaFY1hUUXfH8tbK5NLmgoPpDyE6+t7xuYdVGUpVUXDeCFag1iaYcV91GN+uvXYzzDpWuT3B36GFbIWcGYMrlCV/JUG3otm6Vsw4m2pU5hQDelH8bay6+4wLyY2z78UAan7bgRpOI57uJW4S47voCGT8Tytx2uxMnzIOwI0MpnJA+FBPSoU/PRbtwT8rBq39JnTk2bOm2oEzHFjaOrn9qyfMjuTujVkfCeRGukn6FPh5M6d09K8mZo6+0ijMifseEp22nDKZTFPu3tsykC3ISxddTGqNn46sY7fs92Go4rf3arc07XAyA2hFLQJng38wDuT5H5SJTac9kKndsROt6EdlyAuNFH3EEFWvLVufX+tnamxFG2ML1uEiBR7e4ylH3zFV1b7qjbHubtKecLvNPjQi9d+U4FSYDtFNVrIkoqpbSlt3/402SDPKNHvhTlhcwzj0M4vaaa5dahG+rC+kMpPsJesYI+3imVelhHGdM54Ob4TxmBuLCICkl1L9ypQ5KntsbRHssgKSOJHzaa+y+BvXZYUvjYhuKmozJo3AhiF9gaITSabqMRPv+fArb9P93Z0VzPhiJyPo/z753L5qx4Zhtr2hH6J5a1DRjss5bFRi8fYRLL/ViKxvJW9dYh8M+c7Q4djwSvnyUSlBRKUg9DlUt4T/Y5dl80UyjztTDZ/rIw4UfKQXiXlPmL2xbUDzNNl6Vta1oeBEaSV9knz2igShiwh0SfvuzcpO8PLafuaCEWRlKlEY67Jny9njBLt3fGAQYZr//u68SbCZkoxXya37oxwXHr8a3tSPn1jmvZtyQB2M1Hb+zG2ut4UbqH0RqybF0HeqZyr1KH7QYGWyqDP87p0xWLZ84RUcC9eZcGLDmqimC2AO5ca9J7aiu166Dl+VEqX9OKT/72V0VilG/AzJsYDuxRuNmUbwB0GTMsVf/rl4rWOdzp3BBTSCbzXMJDfyWwt66U/EBsTovJBjvdwYCvb6LAhlQaz+MsS6zBKb3c8bDMnacSlbKymu1/oAUcAJ9uQt7VHCDIeeRwxfDbhdrblPuV81zmq0Yf1p167Ec95571LWOXrT4Su0uEu9ftRWhH/AQyfjPs8Vy6Bk3FhQSWIG0RZxnXuV3algjNonZfmZKmAMfVLLH30jgvlXEVuhTVI1cKvSRk3X1DnpOUHTtQ6xV4LbNJGLYMzg8MZ7EJJ5YZ1sggh7fMussNwYRSK2GWfNOKD7+xJu8ehdR2IRDg8pZiI4+ZBdpGWQfovLeWYFwqJ5ePgi/XLD9pNvCu1YagcU1wTm5A0OiVRtcVeRVtemtMbQV91GXHr8MQEiDmz6cX5fLqYN1f5wj7IyrrYy3ZtwQ4uFtfd1y+fepedLrf6BFuGJnn0yWXs/8/iOfa/HR/Q+QjT752XbBB0NIe5ZSLdsgNn64XwGUKgp679C6+jBujjKa9Puv6jSMg8DucY54pT1/nvJmnVQFDZ+c05HW9Vd5zVnKGwy68yHgpZ4vvHkZgFOAL2tMK06MvsX0IWE3ezdEk/kvWL9V9nlUIE/W17quUF9SYnd4+efByBIIQnEo3B/bG+5wY76/yoHHvQAsWV0n4zwKbwaPtSXSv9K6mBGoSLEc0B87CO8iukaZrdEMXAseVx57vE8Hf5V15bF2c7OrTJG8RWF1mbiOkKBTPkEhel72lugv2hgBlyGsO3M2F3uAvQ5tsQNu9MU0a4iKDnEr7F8/5+g29YXmNwLsAbZmL/YdBWPLpZ4njVFvUTCXh9g8pwrjgSobhAQuL7Gn5dhI0wcX+N+62n9UYJg3dOCe3bT7ZWJ9OuIQ5Ae6tr10ZQewCp99XdDn3mfKWLUSsqTE9hHqiiUo00Xrg7bHYov6sKw6AVgKvZmiOK/i702DM3V906lJ4ijbgkE6+lXerGFc3SgKNLzcxhJcOXAZya8qVQXbWF98+Gp5Vg1kzQutc3bBYK+/h+rUPeDenIz1G3OIipnZ2abxR6RQKesIduVYQnqlGeQQVEvbnv1ZkOE3gLWjrT0mCoBN/bhrvSqJo10K6YJHjKtgiY/GJ8ONzu+N6+s8Yo8cZe0K3yy2bz7sCppRxbe5aZ2A3WsOp5NccsVL7o3ZFNnMcGAY14BSTk0nug4aTzmRlpWmKichbm3Dqauh9FMHuA1j0DhQKEKlO9X928QKCDMiAMGOpFSvV116ydXnwQGP4dX4ut4fzpqyCGNPrROcgSY3c4kSxgw9OXF5EhBQdvJpUKOl9VnAhwokpDRz4sNPiPal4TlweAAy0lCHlSYc8aF3rCKvtNGphka9d1oI8HBLJ/1X4sZ6a77h91ffT686P6KDkNWgg/TQWSuFBoKotH70d75NhIAahLhSQJBLU+owLaDov83sYHEqvA/lLebEwHtcTgDzSD5Po8Gf9++fHdq9mlxuDt8hTflE7H7b4r9FGw9twrXZiASkI23czq6tCX+3KbpsBtF+VyRZvoyWhJ6h0MY+3lHoXBcUv3SjGBQX0syHZwjHbt1d1aYPZCwy/F+1er/YhUgWz+9RgEP6TzNbAk9Y0lcgsbrWmd7L2+rEfzjOLx3+DfUyMtKODjGwzF6TqTMe5uOtCRIHvBtbPp+rH2luvLS0MePTS8C+soImd9IhO8x0mTsAexLFf1d/EdbP3wr9O2/JmCGTTkdYT/2ZeWmHQ1z+Kn1E7Vhzl3DUGr9C/IFHmQUDJ4sYVZ7PR/ej7WDjIn08+kSCVqKoDJz/6kBTeTWksR0yf1ioz8qMDkOxR+Q6O4EaqIF5jn2naS6oaoMkRdzW6OiBXofWlFUzjVmvKd3xCfuIYTRyXvwMvPmQh18rm0lUI5l1lqUAwoPOLHoimZyp3YcWax7viselqw8EnpWNWOPT6Y5kf0UpZX3jcXo3zMQsSZzs20H9ljZqwOQgRiEwtoPA0QLOFB3sSbxbsCgKfhcyEgRGgTs1D1VVR+JgRd/vxbwkIfnba/bO0MMM+4AFjIBSfApEfqrsCxpMS0HG6V5l5TDMn5fj+lM6XCnNLeuyB2scyHWc38osa6rngqx81ARJxqoiOo+6kSByLJ0NEfZQ+B76ubkBZeZ3Jzi5WMmuhZvUOr7HfAv/fbIvDWaOkb9+TtPKNiGqXE4IKXye2C3kLQENbwARaoxHkp9dG2ZZnQ93VD9+TsRnGW7xFtUrnXNQc+6vWgu31CBh8wm1/2P2zjLsMWulYg5FCJxxdzYiOtpbtRMRkZqLH0x3nAHoAze9t9svSDTePvSDWEM3MqoBK3yY/LjpLf5gh6A9wqq0Z8dhO6bU2dPx41zKU8EP2rEc8/w6zreAFsdV/6jTviI95tUV7aJHO1hlv2JcWj/0fxgCqHjO0LAg4+VWN4rjbe5rTOLZCDKOyvhQpmC+8kupqbPU9Dp7SFZU+Y91R03pn/EAjFUbvkSZtt2CAyx8y4OEjOOUjBQgaqLdcTPxnTZXi2P0RxJyfMwQnJ9o94DIX1RhTtCNbsQEQGesCQQOj3zlUTqmICsfHBLguiY3a4t/sHUBYeNI2Bm1aD0V/nEveVbd1gaeN9Hoc3pB7xDCq5uqJEgqukwkIf3+K3fS+ZeZgWqnN346fcqAbpDf//4IuBth5aimjQj9aKF9GDg4Vy85pxiK6CJFoDNe3p5fBiXUTy2T4OrmJI19VGpWltGebyMPykOdE5w+WY2GUoMDa4gqyzUxmOgHVh/9dNMdlf11mdvhcMokpBB8x3y8fVWSe/wN241WY2xCx0p0xv/y1GqJsCEb/rGp8dYW03KRz1VkP3ifAQHRt0u5ZSpF85Wh4+fbjzYn3BB4mJ1wLr5kz8pzBnbbPYdiqh5Ch047R/p1TBr8GHNEzorCj/VJOQ5tRT1V7QVeLWJyQ1JkqvOTk7srt0sNO1M7qwbmlilI9vpc7kyxx70YRsPBd8HqhKCkBq03BEfAPV9m3K+KddOvaSw6dX9jpWtjkIjlr8DPjE3yzmGyo8/eq+CGqs9R6GdG1vWO4pFd3tBY013QmI6DcjjUv+FXlEydBCcmtmG53jORmIxDLEbArqosvxDA8r4Rrb0DCX3/1tQDxN3X+p6kaWwiymep9SS0fEg3BFzD2i4gLGhZqoOIYr0OxrrNINF/jsxMDuCt/W2gP1m4WBpKc1MjMi1IFqisEs5B36knagBIOrU5h6AtNR5n93Y8p2gOUc8f3xVATkLYOXPq2IdFFADkAJJxRvv0H+FgUHdgDqOqZ6QfZ3/q+ve/WUN/b2aKf6Nhzt8LLp2At8A5jw2jNTNKqnmPkqgxQ92mXYG+a5m+MUF1N2YOMkzfNO2/U+G6ttiQmODIfUhhFE7BEuWBq9FSQATzlu+3By2wtID366cvA7lqcul6RvuHk8mABthaN0byN/1+6r/bSd3JpWMLwobBC81SmWhKb3XVVAXKo1LJHEu6RM73NP+8UkM6LGd3jzBUPorELHjtGU+xrneQkfmHnqwy+80Sf+TH8lZt/mSOJCCd2wUUfaeau8dIblnxvxc7owaSUthG915ecn4m4WBPyFWkFfUaKZkA783cwbB67cH0ee3uPtnRckaSU+16ImJzaURHAO3P06hXUDIOwXKlJA8aWuP2H9X+zBMZo6GGR8T+4tAWkksvc/PeZDT+UIRyyLLrPmsnhDAgt2ZQWDoJGs4gADdoT2KWUH9k8b70kaBYE3T5KrY6A3Q0/xYDwfZ1V4kR3+53jQt7xpE1S33OQojeIRcHjH+xc33kcm7Q0DBNDEzv6mrZynIQYhZqTdFhL5kpDGPhMzmAwlaE5vCQHi7+xKCBTrhx8Xqo5A5O5NgchhXBXXzI9JS8uYIW0mKm4ZyEpyJ1A7Sa7WswoCdJkWVYwqUZ7oVAs2QBM5XHt/JberfileD1EDSCSq62cGsIX6e6nJaZJ+JKVs/xKhoFYH9TbdyH7DOrhzNcuEphS5YPVAStlKS+QONStQ75iXcJOVrA0Yad4K4MdrebDr5ilhRkJL5X7pmmULcTJqcmvx/eLHI1+6/jr9PL03Oeg0J/Qv2grplT6nqy8MABE/Omt7OQbXobC26pPt/U2MV7K2+Px/yDwdxjY5M3uR8C/D5KHg66sQIWjTHCW34xemnn+tA0ZtaZLlEf+1/xEJZpBjH75yVYLb5w/XHDDGyoxfArxoMxTqkYPzXCuDb4XDcNpHg05Z0KRKrSiT4llPx541nbZsBuCBK6UAdn3zEFrc2zB8JjMAqWuyj6AUZgHJS9Oj9KHtiYVKtDx/ytGWhO3KzCDiHaqbBtYjkj5EsJAfxar95BXxx1ymEv1Olcov8hXP9KWMgopdycND96BmJ80M8FSzyfB0bU//fpF2adc2fBARSpmncUW6O6qwA4C4fcWuXfe/9MTV2s3ST/vDQKwYwpAK7zfPCx/IcQMJ14Ko4uw9N3PfsxpCk9bLeLCT4WY/qVgMzprwaz30aOi9JnvPuFQ9fSBXaLiGI+BWlk4CJAjpA4egZTj4ypTgaGXvepycaRZ05aDCZXz8hhidGZ1X5EHP+sWLcrhsUvTQlWnMNGY8BF9ZWst22VYO6FeFDbAs+WZ2PsLd7i49WbvJ9GidshD5A4qpPwtjGskD4OKZFvjrPKGhoX+Ij5c707Ql8ZUn2D+w3dB1RxhvsFtBLkFUf3FKDRHXKWjY2JN5cWu1dOa71pqkepMTV3ZnT2XC4srYnpjdOJ6zAEKutokILnVIKi/pTcbEl67BMg6O5mrtatzOjY5tVwJqH795A1ZOHuFy5MtewWg0zFo89WXYZdvfXTzXpZKRTo+8SdMVEWh49PEKyEi2P+1H9579R1BkZuzOsQx6rTpqTPWC5G7oWSWRs4KPm9sNZ90+LhoOqAW8vg1Xm+1O00oWZ3Nl2x6IZS0hIj2Pv27mLyy05fCFlfSJ0v0ga31tAtiWNf3o5K97uaZWGGN6ggintVnFXO1wyb/tMh3Loo0/Zw+G1zpCMQa55yHEvvkJxSu/or0ZCz1wy688IcvhA/t64Ufg2iwf+7o9iMJ6C90rlKe4uaGAkm+EalJYQANdZJtF3YSj42JDlzN58lkb8k4wcmQOxt6j7z9jjxYBd7KI9ZIDt9KdEtFyVWIdVCGZDC03W1Kbed+9cki5PeFg2i3nN2ZdHT0Zwr2QtD5YX+8FIxseCcpjvV3GrZemN6EssJkfgmoLNswR3olOq0oNpriemUVN/vyhXwbq+/vE2bH8bnwqhVW8v600eOrwTWoQ+0QBLiT3wEbmLQunnPZIRsAd2qd0EnfaHO57T1xIixEAYU8mImVR+facbkeqtURUOH49w/IzgyDD6k+lXVYs68KjixWRIzoacYaA7MXof4buls/hJ5f5o4BZ6ScHYcGL2vMwvNVp+xKAAbB7SfjoDUVfli+ju8zSsij6M3m55BHyqw+l0at3/lRg9kufHtvezU8GzZxNH0Ea+oSuRYKpMu8jdoCGZAH+wUBquNEFPBLTra0b0v74p8FGcd0lx88LHB9F88uic/HsdqJ5cm3W3yhMVWLFk1UTFOepHYZClibRj++py0WruqBwNt/pB1KPdveORd1XrHgyPII7ZbmrlBGwQv5AKJegNDDcq0QEPk2fR/2mAaTW/pa+YHo63UA8G+beykb+dhhGd9D6/ZdxEWH/CjRK8H1PeOjFKzwc+X6z3zvuJZd3lJEarV8FfDAgMDHRhlu3kQxbmnO/uiQjt3TOYUaean4TCdlgmDPYgFgFsvn2MfDH4XjyXgxyC2D24pLoApueo4WDa5RAnhv95o2TjoPZFFMT2E3TUH/L0SViO6fhIGeEjSxk6VGbOzCPDPWA3zP2RIFniAO42uvcaAYO3HwCQoq2W3aV+EIVew5jpZo6zSSDqVahj6uSOSVMRu6TMRB+HXGwlf62IGALEvmGZsyJRBzTL7Zb7MAIlEqZZw+WhhvJjRRVB6KWGI2TxKtzalHJvmGlSTiqb5PNwoEiapmlcovF/4J9J14TDZ1HZFh+3985RzSsmaNr41jik86vmERn3qXfyGl7IjnnhddAbaawnfsfS5rtH9crbJUzBmHnRn8CnYSQ2Yby1AxZiPhq12ZHKsRjXyxDzyIzC88DTxj4LLe5poeJbZxtFySgA02Q8Ld8k4iX0c/u+hTVPNaVDENIkdho5CipPL7SM0lIjhv6bA/O17cP+vlYdYnv+24zOC0KJv9dkzM/d+8M77VG6EksIPqEnrURlSWYmIpkO4DvWZro+XBuiwmwNb3xYXFO5J9A/NqoYPi0NwbEu2GXb6x1aFvzriEpWRYB15jSrToOJjR43KnsjykdKZd3dqNKEk3DeYyDW9JdjASt7riEScOJlAOlYTY+SsY7XaGwmcPZWm+BLx3Wo0qKm+0wKzfMRicbyDlurpfMEmHgSU8wdW+BnNBBBDV/Fd5tktygCYRUL3CmSxwQgMZzL0aCZyfsf6pR8xc00zREE8wf55Q3GM6Glu3ifWVAPIEiVDdAc0xw8lQuUqqHSpH4mqSgR2giLnA5a1091opv5yn8a8Zq/deJbsrhFg+FG9Drg5oAocDMpHTiY/A72tVtj55jqqM4rVNgEDL+5KykeH25fFmpAjF6YQcFcB46tTuYIdHBoUVRdhU///2VAlvx6LuZoXBF4oNap5b9/+bDapR/R/Zuhr8mUmXDDuhiBg/r8lN2nCTHPq7Ck6rCbF4J1C+OY3MpZ/7MbWthzox2xxww78mByOOMgJwUQumdPiKcUvYk5lmZbHlg7lATy9v+17JPeusluvQxUhoPvkfMcNHStFL0RtxWcnTyPPSgoBmDbIu0TgNmPJlA5YxZTtbKBdBNwndzT0P/p1Hsw02sLr344xxBvTel0f2XDdNRvA2BVa3vS/0pX0+QCP2GMvHVamjDMU4Mm6c46fQjMms0h1d9qUkdKmA3hEytIXyfU9MORKs26FWDJv8nKQXMmN3I2Xxnt9yoO/ID89G4qyy3t0f2LA7SSEZBOTTXcYa0YgMkO6MCCObBm0tWDzPTXbdgjY5yqRLH3t3c8LyyTFsTTpLdBg+6p3rR2XDa++FM7gfmPHjWyDD3A05yOtnRxOEKPeDGkn7ZfBSomJlAyp0oLE4/1Vvd6sYhUcnRbKx24sXfKuL4w7osmN07K2V5GzRtftHiqOAAbWoXikIJBLYtjPHMncBRikyxM4ehWxz5C1DUuslHuW0Zt57L3RhEwnyTrIuxZNkxlg8wOlpo35ep2WfZ4J2KYst+Ai3NPKydLFoT5S81ANh5Srceb3MY2M55PZDjBhTpDC/X1mATV/Wwq21blKMc+Cpef/RkU9dtAfJt/x/rcZ8XlwtnNcpcZbd2iS1NBW8/No0kFMscsRQbgxKGgbKR3440p0U3pr1NlNIixoMaD4PNDRlut9pQczExOWHGKpvapVVyov61CrOzTnp3vQHuXb4AccsCTjhkjUkT1C6Wn7cH8t/OvgCV646gwzYBNsd7JxAJsxas1JAc9eLUyaH0Lp2cGPOXNfV16Cp8eYM8YC/aiZPjswB+ZMRrftA1IgOgCQ4hVkS/NeUvrR6SU/U08opQvYSqSIZMZDeFD0QYViaHW6dSMeEBVIldwWbe30Tgt1CHhlLdP5cI0s5eBDnWuyjbou9ughKMfTWAsLaEdk3QO5AZxslJPZRzjikqRXrwH2zJMrd3o8Eppo+JPMdozz17OEiwQ8AbSnJe5/sLwk/p5EiIx2JN8TxEHr2D4oE2a4UEyymlDn/Vdeo8jKseGgc50tMQHnwJaQ2whCTwaLsqkisf8W9D6FbiwwNkbRt7UdPUajs9okc15TdyvmNtVqxQ9HcRzGC8DdA0qsvun26p2fdSKkTGMdtvhLO48hdlFV7rQ3qZP45tkZD3f7h4YM7WzW1zxBMQASbgSsQ2h17pzsA3ddt36vgYnjiz3OMtOI1BhaGq2h8M9oKE9fvuyS7Rp30PFUQoz2NwtOHMwJKioT88cJb6QD7B1DIibvVZZmbG+MmyK/lZ4mzIG9A4F1RyBaHUrnPMnkT42fEKjtMuhXhMzEYwva09fWcrxtBCwddMiyao7iGS/mHfQgWWTRNrKlJmoigUn+oRiDFt0tiNpT+ff2xD2+EUmGzKUUOeHki6XSUVFAEG4Za1NTd8UNNAdN3jZkvLBa841yrQsWCSZOVldlQ93iHgfk1weirvslj3H//muhRFWcFi8sTdDJ3X6AI5hiM1DzQD6bBg2XwOoqjiQxACgU8zimKfDNzn/GyRyCRCS/AENlHP+7Vl3ueKDbVOAv/d1hSwIJKU0h9rSdfp7x425Ju214F3UaO+/iEwOjY3IgAlCU2SPIxZPuW9v44RBR0vjjGcdaehgd7Z6MLww46YcVuyi6s8js75UwaITJuGfvTHGX1Jqb4PEaX+GoFT9cb2AueaQM1tguY4d1bYWwBraMq8F32O7m1swDhvROFBXjeiDMckPeEfdjBQ11BhSJTXC4wWRnoledoFOe36CWzOyUCsfgwQAsMKe1g5qT0B4Gnp0leh5K2z2JJVLUFO95YeUPjP6j7Y0KScMsShJBAdnikbQPUBjPWEYSPSsVeptal6fIyPkkYUOMhR9bLteZvLH5azkZVtw1wR+I2BAPf12W3M9gUgz5FTEoLkmgOPreicLocMeSKFot9Wpn7XEeEbtMRV6r0grtB+g9zdDqnqMDlhfBiv64EaAeSxd9rssbORZ9CNCzYMlKm3BKjLLtivRhWzL7zEJBuuifCUsXxQX/rqpvH1xkBRTdwvrZbINjWeKkjDKZvbGx/xf55eiDJHoMOnVy594faiLu4BN947I8lSIyDHwMlkxIpxyC0bnKwpW1D9jeLVTBTFsaXlKXWlRt5zdwtzpEtRIAdysJ9AMmhcL125rkpIgyIheUAgXHqSkIKYa6qFSrcMAVV187IfbM6HDuR0VQ6hS2iMfU/9liWEyeDyRaYJD4wNlIizAwwMRVSQhy2QapuCFcBesVmJC4hkJRbsvcNKi8X9XEfEK4032ZoOBiyyFLv4pCJbQc08IySMwh0i1ZO1aiKzzNMDbAAq/rHB3aKDR5H1MTKOmdpMbCh2LbTNeWgn1FFVgLZSolc0ReJ5qOuNOEpWakaStuhMftg/HeSmImmiV2k2l1exMepfuw6OPTqYackx3bmAUzpDCv16uVlyFRT9eArRuExVbkyC7zg9uxylKgKaErRpQvTTjFtwDi9y95jh1elwE1GobXr5i1Rn53Hr34mPMZXSIyW+Jjuqx8zeWrr5LEOcR2DzrlGNacdzPr6uaKkASDrUjz0i05ul0J2Msk/G6Oo/gh+3e5d7xObkDpucAPQakr8K5vUiW5U7c8kLXb5uH+Gx3Xg6/Utuvp1DHpUytQVxWIOT9nImLDmDEBs/tobhglkKaJuTgh65JMOBDqtuRlw0v/KMCvTSECzJ3zimtge4O/5wbOda9oUWMyWP93lF+OaK2lUUxadDWt1xHFdbtzSMM5TMeY1Km1nx946jsS+zu5GWtXVAWp+3GDB1UbF7/rm/MXq/sjzJsI2m+CWwe/U2qtL4dQBSc++D3KunvInO/f/QBeRqd61owH5X3nXPShji/jsshuqP4Z2K6Q8mm+MEPONojhP4OJwTBteHnAPCL4PCDziSElsAuA0asN0twwAKCAYpleEe8IQuwv1nQZMt6jFaD4I6ciKsWoBoObIGfC+AiWyRvJEQoc7Do0sXzb/ufWgJRt+a6xbnVITP1nVvTwwj/AcGXK64vMg94N9D+RGzsBLWKwx8yS0Me6LdTX3q1eRhU4yO5yUA8RNblQmWiClP6BqxXg/+v2pptnCDLFu4dVk6onjgsut9LO57etMfxrP6pVtKXvIdyUlYBerBD8C8ll64ToC/S2JEvPcRgePoIkObZyVLpK6+Bv9OhE1PQBUUMxbix1fTT/UZ7nzBM6AYq3PgtMkWU+O538CWzOTE2mtEI2FsmNfDLLIybLNCUnz5wZPxg7lzXo+obASgqSiX0CBjjC6jGx49ARxXpFQ0Hbcth3fhkYlAISUbBG0bfZe+mnTF5LKNV3BXiWqwHSueSmKd+NsdCBLwQbYraUIx2rhKhLR+z9Fw5xPkC8v1bvWU0IfQ+VtpqdiyeJJ3CAqi8Fq6eTsMsZypLloAMjvSUr2oo6kIgwnypHvzRF0toJesehOKScZ/c2wKgJ6mC1KHHMA4UXxg32CgUMDXdqYUh8QwDGKe3o3IhCkCvh27CEZC+nI7h/GZhW8No1cZbMoizxXgZpp/mfgz7oeseGrHVi7b4q83qBJt2GtOJPZzOHkRZsij6XScIdnOcPhAwA4IfQwdtRrCfrvrAyhWnNcMI2ohDhi5/Qgqut1Mr99J1FVBIfQIM9jZ+R7lHnT7QQ3ewe017mBOqdZcWa5hmP/DyiPZfoZLQoXGEYKG29o797XRKj2mDfIBpb4zBMylXmDnHeAE/zcp73xUkvfdNL3pRj2p585BZP+cTABdktpVrYd0Zyh74eFhJUTndaLmw/DBxdIv88Oq+ckY3cKHPiOtfq7b7zGVgzwpTCWN1WLsT4alPN5VGesTjGKMzDKpdYoIUEXoiZeqi8EtEja3SJS7+3KpfkBHlCMnCGGHMJRMatBc3RIR4dWWwBh4ICX6PQTDNG3cpJrYEX20xyLQX0ihvWsY+8Z3JEnCk1EwQYrVyiowaQaBmbpTleVbz5AH/g20Eko9zrPJbOIZ8aK2JZ9Fhp/bzggpbvDKLGBIaM62Jpeud+qvUQTydEqR7KGqkfvE3GD+8UKuCe8I9hp92YfUVl2sm7P+cCBjRr2+ZDNhcDN4XMLmrrm5WLCje92YVQizyYpTfPCC52GXiU5arKakyewxpdxnqWLoYEAAAj/QZoibH/khLwD1Zm6zbUjtd8EmAl4dzOs/ibj3HD9hgZEGk9HrxQVB+ovuwHV7Io5KNlVxL+DUc2y/8w1yMvUwCD+7wC5kYcd58cPm+pHqalXpLICMezN9Sx3BkW5+YhF3/C9ay7IvVmgWQvjQDbrKDAITbUwHrBx5Pj8BCQW89o4pUqDhL0Xv19vYO3p3VMi8z3MIVNCBNgMfUDfaAY47BV/KWhAgchZJRHwOEzSyUt2mCS8a0QP4fheFdKFY1HaFVfMDKEIzPm/xmTsC3FXWbWilPZ+8TQm9dyBJcZtRJNQyFRIblBZLuKWcTbc9mERAInwZ3vs4aHhTrTBgB/b3EozXZkDw0fyicY5vGa6+bslhA2rhb6c8Aj4nJ028wRDT+WvFFLrMergjC5yr0FXAnGtlEX//Qts/DjHUvia3MKyZVLojlhZTXcbyEBeICfJci1kRBO0ohs+OFgU9sG3oDdesqZGHDmNwkFh7UbRkfB8uXTMUmcj1EcAyR6vCCBL+sdo4VzV6qg5/Vb5vGOcQF3RjtpJZVEGGlU81coQtuIN2ALwsCV5oG/DX2worJIJeO83rZf4lkOybA6mX7urJVYdWnxpEbB6AkpS2WoL6VNBavaq7mFbQ1spLWGY4oFJmzouSFRfW1eYcrCBeojov/KK0HnkxFbbikgqagYQV/YaavD94iu6W8KBJbhmUAon56D4gLG5fRgOJtIBrn7N/SQ+GnP76yg+oXiJ5Up1BZpLdIQ4ohkTNNfO5CsywQ0ZFpw4CMbEHC/bcvJgBABO1qKQDmLXJVZfO85bg2VLWqjCbmLIP1Y60OIOltxVsp6IGWzDk0F9tt83aX2B6PMzE2bEGXR2Cc6DLfx4SL9qjbljOrsgZ8XLRCymHfVsoaIh9DT0MHEKVPuIi+tmoEG5Q0l53Njwj4UxFDF6Mmbkq+n10NW+iylLWPAmNt9HFUw0hitnFL17YOV40Vh2YzNMgdVtWJ4hvg5bBqevc8rywKIs6dX0W3Xu4ivMp8oG4TI7qcg8amP0RvTPhiV217UtZUjE/o6hy6t+73IrQcQgYFBIiopoBn2WSdLumm44svISdIM24jYQOj+9z/ZMuJ//EhG9sHJS6Xmd0LcM6+CaUg7Tugr54jQHjbmrM8FNK1GilbLYmHAUJwJ1j87xnl9E+tT6qsLj8fOmaV3dnm+nlhKTtZ43i/8fg3FxR000t68MhGzd5gL2SXOEFnJQeEr2sBIP3ozmWo2Whh66AtkdODm0V8MPlz7RjhNslqOLO0osj+XO0GmHD9nnPPRCkLFdJnxcDDsTTWfArgMmzPG1qau20kk8Vx/JCstcYfys1BUXouSS1CNx/W5ib3YHyC7N/2twgZZe9rT6rNZZnXWRNhkGXjcNn/WGKU/0EBGEWQrQY0kgdtPwaEtS/W7Ql/OD3A3zR+Q2fTIEztifnfOCmj7PbPAe1HLW73GMiBuHAXrvQv7zJBqQWabu7FGv2o2NQBUbZQaUKujj/Ib48f+a0yfOdTSe9GXyTB6Sg9u+TJUeztI+OIgIrnVfSFb6en/+s5TuC8N3kGPiHaiAFD29WZ3D1U0ISzJiQNOqMaGYKyucwOv6BwsHRMxmV6avk3ZvB5QZv/FNhtj7UVWWUYxlEeG1dP9asVSAii2A02FXX2hhd1+MQFneXVCYHrIXSFlHlmOIZqSReOA4aFGsv7O1grvypManJ7A9aUI1S1ssEOo7L6j2QWzdJkBvzdXacMaRR72W/zgnV1px5kDEsrut8+pho/uXLfNpshFtO35rS7AQenSoVivmVoWlRam1a6ONYMAnAkEU+awDnRZCm2unds1lwaZQdpPmKiSHsOV0WLGCw1/jVbzPMIczsemfvDjGgYdOx+HaVJ/88MwUYuFB21qtPUhyHcQdYHlDFnry3XOxTTzJ1UvU0e2cWsRR2fS83jjla8pjjkaCWhWlqCKDaa9qhTdW0gULVRMQaueQSLKAbfoVgpixdPkObjwaRq4TFdoZ1Yv6g55PCJQDj7uREvdADu4U8pDcg6X9v2ufUumOrDpNtcgxswV5vL1LGl6k7wazujj3XFbXS8K5BqnNDiXkvk+A/r6wRiKve5tLich1Ix1KLuIf49bOaBcp4Zjk4kQONCNOAn+omZx0rJcL+fl5S82539oQ5FQKMYIoQfF72/iFLjzIssJ0XrkgIrfvF2xcSSFsPEK/PvNEKmS35RqGy7eZgRToFrhTTYjQB2WaLK1tEh4GftM3Xie7een4mXrZKm2hKSplrBVBkHS+/3nZkWnJ25bJYNgT8QAAjQCjW8E88cTl98U2sojDbF+SaDJbQkcByyDQqAFQA1sVAuzoURPUH1F4Ohln2qAgNaBMUhZUts66qM+MkuxHfU8UCfQOPzeci1FrXT73+mMgcc8QgcWWOLDxqhwhum95e9TYCPozpXeXRDNSH+PkjRGwo8iAxm6VLK3aYGAVF3I0OKYMnkJ/39K++I0nvJFNLMQ15kfMtyLNsgsUiRbw1FVsxArExCi0m40KCkcsG1h+0qvpo0jCbq3UGbYSeW8bx7iK0tpEetDaeQt2PgHdgz7x+N55CrLkPvDwO11ApM3lYegSp8+fFbIUa2CyL/TRI73sgy68VGJo8ARynkxtSBOis/jFEAjv5pod83wUH3YgTW+QqjJEiKi5ifNhxACQWq9kRzHFvRNCnjOnqSHZrDcAIQ55Iuc8jv83gUVhH8+ccjCwBUdedd5eghrlL2tjp3sjp5FDhT8aiqTEUMYmCn/3L841qNjEFXmiyB6sLBQ3gIJiiabYwmmpsQ/h1YEIYIm2mO0Vv8lHYLOHuN5MShPRFlblogw8Jrl14H2tqsv1F4Y9mPslx5ylzV1VyQ9juVuHYoVx7uP9gHkZ7UL8MsAUDmh0656c+mFgVAh37dzWQ4uNX/B7gFaCEWrdgK7UwDp3Yl3YrDt6xKbk3cyAtWoArw03HE7ysRmWa1MKEeFJjTyymh7wIT7AWuhmf9zh4/wLqA8ff4RCB4HWSiyFhiNc3pH6W21bWp/K6I8GZFA5iAlYgQH+2XnfDRzko3R2VmQAAASaAZ5BeScF4EqWGNDnHpoHMe01+E36TiO1RMVseLpyz7ear7liMZJp/siA7WCSEqWxU/4reDD7PRoitxYlKk6m4/VeWwtTS+s+6cQsHLsaYwM02MTbiZ6x6j/oYqb4GxPsd0YvrOhAmxqTNK5lKplOPiar/i/Acb/UeG9Vjr1LaKYc5+dlUBxNv5+tvkMql7RFPq/fzsLEyuSSs4rtmsVA0ev+rAnt0lUkyDASq/wGiXa/xJN2zpVtie8J7y+fq4V7VdEgzajY/sidvd3CZ0WvHBW2kQwgHIW0rEpSWXQ1gKVElMlFXTZ19qbJT9oB0/SL4Aym2kSSU02J4Orgbd+Jy2GFI6GuPQ178Gqv4b+RXvivpcsr+G9Yit1JyUfymnsQDJzX9ycQY4TSt+9fymVLBC4qbFNaHYcueZvJ1LqyFxrkuUEbvU+hs0EIFC/uGWmkDibQLj1lHT72TEmdhGmQVo2B0b65ibNwMncKcSG+MIYunex58dc5F30Da+pc0F+Z0xoc13Iu4PL7uObB8PKyYo0G2QXIvEHXgwJlfJ9jwQHpPtW3+BixotrIhitnkDSGeQohNtszhKaBhuPF1LX/gNepi2TvOhjjhXpGGREJrrPmKrHXD3GXy+xq099LTwNoS59ugXt295pNo0dEZ3nSzDU17HkLuiWUmqV1sU+KwQ1o8lPNgS+8BgCnICMQQwrfBUeSZ13xzndwTX3t+yXeY2Mb6b6K09jytISQu9Nfi9zdwAtIAvtvjiYT26FDE1Lhua3QtZBGQAH84/ldPr4o7NyDcez2YRBEddkaY7COLLng5R9lI/pxFJFjmj4AqU1Oh3qmLxgqFZxo3GnFKO3CTOdYlHSfUU4ijd6qUU3wuWxW2/2LhUgAFdQC3dRgjUqPhU5cA653oqNz0zcs1MULUeMXez5CM0xVudryo17L3OcxcKAHCTrbXuGzJShdv+lFGEVAvivsvepNeg2hXL/ltpditx8xatGvZ09NPFkHX2yf/IoLpFf65YA6kPpHOONpEVozJ5e48zDiP3fvn8EYQTLBiRmGbBmPSPgiwvvJwe+cQPw2gl/LGBm8BgcQggEywlwnUZh9fBa+4ESq+ablWUcQ29IuoawLV4dkNWhRJF7qn9W6gGWwHxzwILNZgmR7vQsXSiXKa9Y5MDjsyIGrEm7/ydmAfGXVZJtaAnOOGliYi9CX3Y+WVGFPtI1Zze2MorTghGNudraAt53Nt3m0t++KJf59URj5SDnEsXqpys2xKXUrX8/Ma6fKLsJZuxyZwRR/XburO1vSOe8zfaPHshoKPWrrRol7VD1/NG5gjRWIBPQ6DHYIosT2uZyfMC1RQBtdg19n7WVMUa0Uz7LE8CH1ZoakIMiMafeYmJZB1pjZxQx0CvxiNY4FwCn7D3kXYYieX74svH7mScyEJu6EcxXKgAldlZn0czQAP0QjC5ML/v/ECVMYmG+CODldrzKoERf27pPvJ+ok/FxniorYO7DLxBi1YkA8fC7Q5pckAnVpXZ7qZUJfYRDwT6NAg32QrRdbCy59z4pa3J313u6ggD1ToZKGxEtZ4YEAAAbGQZpGPCGTKYf/5EAAAafjkX4qYqeAyHUHA+ScO9Oout1e0JXNxp30o/1O3TfOPtstOv43Qy8bUxbtpgTx9UepfnuoOX90eziWufmbamUtKjtHNG4AFFpUtS9zI2ZHtfsR/MEvTd2w0p16jXCZRcPv1bLpwYajNamlzMX3RwrgYEksnwcrCUG63o2oFJRFZWTDZH4xM4oHN1Uw9vFUqNy1+RWWPDCHeZ2DBoE8enzkp4iCCCGiHCVNMQ0a3QOG6J4oE/gV7G4LQF5KDXTdf+JSkGIfF07Mbk9totoXxXI9c+0C8LU78fTnpKSULf/yhgbqRc5SlwJbyhQxscnveMoOz891GX5vRR6GtjP1rePF0EmtZnvsQWlfEZdwTXCHgI8K57WSuFVI/RYxFp7nQtQgj/agmTLa8z0g0co6Il6LxAULDZW+ymQceWMIkUabKXOZm0hcpAoN+cYEmfA17NcoB5krVz3Y262fwviLWMvsHXa3xev/8yfl3wZnuFKzwp/GB/RWdZ582oXDcpE8gRvBmzONKtnVNp2iO3XMsyyvIS1O3v3Fe4TVDJiTYUqfvlGb7934z0ENKlJ0POb2lzM6SnzuoKHJwOf5sU+I/nOmgLUqUhQVrkhlhF5Fu1YA3HdWr3Cc2hLn01HZvXAL5DECMnHrAeYUQe9iDJgwsqK3iAHvFUkB+5S8SXdVVfFvSlSmV3g7yOGr0DeMxcsSMJ+GVRMtnoasIiTPZ5EE29XK3fNFpGQuSkgFu0WsfU1WMEJDPyQXe9AA7JNoiVm3vn6er8PWSww+pJwaSeS0rcruieALBfhr7yBMnZ9BYFSlMoKOa2gR6wEZJxEG/IpJ+k4WIGAZ1y3eBnIZNV+DSiC4VBhSITRczijNNs3KY9/dUZiHi6kxvpYzsCTgTNQfPcf4jJEFWztK7ar/obadLjlBaQNASZP3sZxu6aaZgnyhZI0bEDzOf4ZyIukLd0vbsg1DLFJXMtip6j7FFKBv5RRJROkRYL/G/t9JSKU0D2Eri8aVjL55xdrWNdIllEw8D5WBIy89C7GreSqHuttG4J5Hy+Z1mMJHTvIUKOvHXi5AWmVLnWcH09kKlQu1c8Cw+mzuWxTLugKfwXo2inrGD9haR6ZwsDAZ2QxYfnCgXsxx5ObBb/VI3mMmJlDOrp7GHq9Ij73jSVEFyVkxPU67hXnR6vMaZ3tPE73tP95iOBhEn01WN96svu78Pe7DbfFOltZDMJCThBnB/O/screHZ6/yT4Nb0lPcZE8dtGnaTEmUJ3NYNNA6F3sYpfNDPgYjWeRM01GEiYUUQpmGTW+jeLuI+s41c8VqpxanH93r3U7mEgrjOdkuQAzGNEtOmWO74Kw0Ers5OPOepQNtHCRmdFRdoCOA23nzMX18KzpbqyNpYg88UU3N0zQ07j4zixGLRK9LbpugdRfhh4ttOcYdhew1EJ6pzpz8aCqeWZj2WThpWbunE+o1cpm17STzGAwaVqjxoMI/QSlgMqsvatn8Z7R9IDg6O0i8WWED0bOQ9EBRHvb5hwkvKnC1tqHsQyVyxEVG26Zc82PoaI6nJENA9bFoT4mteOWrMtiBB/IoEKZ1zU36SXt7udSNpbYyGG8y35uHKVmCAFfUOfbj3JDrdeWv/tagwkWP7bnNuCroQSyT0Lc/7BRXqHs1N3qNqDKydWA1/waJQsVE9nNfZMVWL25vCWSUDdsm9w5FahahCYMYZE3/f+vopFQrthaRqIFmTjY9BjFl9Pz4o/U8QWa5OY4FBt6chaulTu0MXxNz1d1IfQF7SbUcUlfHkwCw7v/MzlWNU+dlSNL0whRy42ZRUg0IBKdprShsXAH4dl8spNYdYFgbevAB5y2xdE7CfHTz5soxJyAnsd4pkXnP5ZlujiVLKb6LD1VhPm4hnKXD/grpLjDU/wI2K6QuPSeWzx/H5PtqIQ+10sW8MN5WA7V0L5D2yykWVQw0nyt7vIPcWqhbamsWNq+iME5WjT2qhfTOltsV7QzvFIx1xQF3/9uEg80cx4/ouT7t2SgcxBuafEsteut+3Msd808CTc4DyWTQaRpvh8ep/1Zm786v6CD49gzLzXvfwSzNiKlndtYbByyOmsUKvJZroGNT1abxkqhFeZYrg5E/LUhtkKDXxOfxWcnbdeIAlVggnnEJSjk6YR27Ur9y2GiuWhh80YlHpr8Sf7wJIsZXu9TtLXzM+QtkMHT9JhXv30x6DOSOv9D03/clIfwUVZG4gE3JtNICrlp9T5tOlMj5x0jdFrdcqOyk8YY2nBWgx6ILG18tpXuKhOY0cfCynYlt6DNAAAAF10GeZGpT1wUSWYwwQ/9oKw1alHaA/uhPI1QRYqJDdXLl5aZJ+I1f4bUlorpAiCR3sK4cfPGKs9LUMt2/ApRGmEQnBJ+1ZWkk8n3jCZjeRE7thcT2PtETQHdC92XyrJz6O922PC8n+ZAJy31zm1/fNhL8R9zjzYn9q5YpeKzB/DLUcAKnlgUGH8I/rVPxExVugUHxUh61KUKMmfeh8ATkzAq9/4TlL0CuIqalIciAtvTEfbQJi/qys7ykx9sOrRlEWXf2YSbrZeNGOtNQMkalE0Tm1a811KRxC70zo3tBmmJJ/3k8+2gZS7XvwkRT6HQxuoihse2bIp+48wTDLCM7GRNa/3t4bjjjNnD1hkc2MXQ2dDjWovWHp7S6ZV8gNfDd9vp2QhlufkRcc8kpDUXwrOLFmwvLVzjN7JLRxMT1VcNnaJ////SdD1avB/G0IE1Y2PKfq9jAERiiGDi6APQ7IvzrrZ8FRYmhworydbYU8liajJTCfZ7c2B5Rzh8S/wlmW+vLHUUwyJ7qviSfHZtBs6UBORjRWMNpaCHOwWfh9pXOryDtuv///p7nsCOASZWxETGJf2TXF8gENWVvHW7J75h89Xd1yrFBr9aAF8KRHMervdnPcamKvmZYJSEfQaHWZHirjaiP57cz3EKY+4846dakycTzk3t2oP4Ury1FhRE1Cj4yd7R2gBN+RA3hDxXfVhx7zixILjjiDJbXte7F8SAD0nl8LYdcgj0xU672UcKlIA8oPchlpSyG/fQIRv8MhFy3ZM+/Gv6ft3SIKCJ8Z9fAEG08vY5fnrlTb+hthgC0Jkw8bHxgYqBbtzCNdQSDevPgCpRwKIGWgF9OHgnBCJR5LKa64rCFsJBkqsZ0QVFvAfsq5Y7c482IC/Gy/RQ4ErMpQLpMTUaYPtwDIoyktADN0ZjZhRxztY7pjiF8+qvOuSwYMqQJYYHceoBi7seQfslwHHCmNMKBM4T7IhSuKvevGTQxKki6DyF+Z/COcO2hk1K5yVSRzzdI4P8JHcktY1/cV/TyjLdzdFfs0eGy/QzyL+/GhjDgA4Kd0MOyyemYM+6B5q6sHpTHeOuaZhZuEbCzNH8vEuqeGoVUpmCdHrpQZ0aIdAG2iRy0Tn6FjPeYd2eSCLF+1PDD2hW1LpYxSnVzuo+4fU2wWnBav5lqlk0xPU6zaD2+fEPl5UON/fvaGxP4T+VXIYWmSLf0oUbYLYDB2uHtDe5FR/akWquT3bYXdOvOGJWZ+/uR4PxgKZJKRAlnJjb32t+LXQcIuyXkbdcvL7j8qYpg223Vkwesujhfe4f8yP2q7nCCSUcurVI2lXh/2x304BvGyhUmCzgjN605oYnGerkQb6Os5uPt96a5Pwh/fw2lkesRUrxs6YmzrvHAPPiguv76VtS4MBHYGBmjphsdjv9Iz7wMjT0dDKUHePdfHn3pCJoqI2U8Hw9zCT+X7U6T6hC3fCa5Wv1vdUKDWj15OWbPEcxiigrt4yiGKsLPFL7X52SwsxZkBz8VgnF0RoRSv1X1UJ7hYQpmxepz8BuxKAd3FiU/aM4rIQov54DGUCASsRH+ZUP7Uxk3xTX+XmSZ/lU8KKc+99evf0UF56ACBuZUEbwJF+XCnrvvCy+OONiifQ+Hm78Ise1KnbKGBtYwjdOsjtGLS5YaweW/dX7XSfT1dOaJ4chxXh/dPwQsyvmEtEJg87jzZeRHimCwIT9QKSf4g80FxTVy0FXHYw04MG+YkH9WAuxCKcIH4D8bnuqpqAYUsDEiu/IN36zgkLj8yIqyLCc/81WXRzG34nxAbfVdQX37smgj2s4PSo5u3i9b5KLSf5nzGV4heqGNb4avTlU8RdETFmUkgJk1ecCmz4p1sNZsmHNx245BzjSLdpZhbEQKr7E4uPM2IJXhVa3VIGK/xqL2z2mNq+kVDSBRoAFmL8AwGFWocXqu1Qyf+g+B7/rO6D+ipbBaETY82si4DzVl/5EqqRIn7MD2L4YcQ8EAAAQ4AZ6DdEn/BeMGqOlDY4rlLCp2tyPbo07AVqsC33uK4kfnF7CrWti7ocNcM27giId/pdEkVBS8le4KEymVWZzwiZDLNwtXDT2xH+e0DZt+a4GrpOUsIv2DfjEjghJO+H8TjVKGpkbfeWtXdX5yKSErmTnxUpaAVaurTn4r3aXGjQnX2wVVGVZwqUg4ayMTafLuHmk+Vs+Qkl4NCXmclSh6PWbY8QF9hlr7XNDAcnCwPKC8BsgxSVyIRk9ey7jsAzgRZckx04L3Xx46yqard3GDKmk0u7QospG3KqWoIWRpGYyfcjF7K9VYeSmtmCqFwU9Yh7f8bUJWv4Ism+ltI/4QTOzEzp+qTAIUxw/41bnval/6JBP+594mPlZSI+YpqfloHABys6FL09K4IVaEl5FKaUu+F1W59T7BQHJH97XFHRzDQekDUu+ZsUlJYYYZYZzvZFdO2mVbBOjArihAi8ALFVvLZNoGwj9Wa5OcsNSJyaeN7tZvupqTwauEoIKIzBE03LpTty+kpqcPoU3BQasiQTzyqwJdcXctjGH8ufDGoiicqw9EuIkzeBWQDcpft91uW0e1cx2WaHcW+cO8z7EDClG2/uatpZcpE2OcfDTB0iqEoRl9bZEOzAbQJlrQzJEDWBoFjhPJFZz5w2+jrtSHtXbSma9SXvYCrjHy68lMb5e7+Llx4cfrQT/StoEh5lLqakT7v/6Nw/cS++CaVX9Oe3LAFp8m8JGMNxP/bKeg3GFYGAbf/4HsBYy0MHlLp5/rzLy6+AcUnl58KMx7hOykTFPZAJ+K50MsywyIye8e6aSj2j/TamacP7lYXTEcQCvYPzXbLLuzPut2JzqmHHbQv/l2X3XmCfs+YIDgkGaVlPkgZvBHaqXoaU5gC8p8IE/65+IgAjxyAQ/A7HyLtX9mtsAD43BgHfaXnbMiAO6IyBfIa+xbqtadZV5xvDER6VXl4c3qSNC0Q65N89lLWCj8TN/5qw+ecb2OE/WB/J194et4Gp93/aX+ojC27ZUQxMuZQs31gA0w9i9rGbISElLASRAlcpzvIKdKogJGrZrHePxUPegW+XD3SEKf+5ksNeNp0NibTg35ngA4hC6DxD2RdPq2hbHyJ5Q/RXLoTHl4R7Zv3yXjuO8j/0/BMiFzXEdl4o8tHsBh/DruO2JJm65Ymy/q/l8afsTNKh8eQI4UWrxUXBg2f8GzE5pNRiLFmsQfMwG1/f3BDD8vZZ1JDtMAeb/NF1rRP36Uqno8jEmckzCaBRIKhQlqDSKkECHON0GnEcUrP+1T8AoWMealWuDkCJTt3NEOSW84ncpXjNgB6g1uWcVEEEUZlby8HI2ptlLHqlJGTu0GcFX2ISvDq5S1ItDeJ65l/F9a/eI0UQuxmWZ7kCc9LAtbQBDl13NEtmTJ2nJnbH/RakA0KQJv15Jqy+AIqzpHG4RtAAAEQgGehWpJ/wADrpq/saB+B/272X9TSlZCXNFMRCuyBdPKGZzuAKc9wvdvOHuiaTAFlTfH8WRHpKkzTLIUB9RC9UekzZoWEnNH5YWEICW0gqhvbC/I2AGGe8Uf/YuYykD4D47k8QyYHrjGTvbmLzWj7r0hlapG8mIWfEd81CiFhldP2DJVtvBHmK95cKrQmkY8YAsxM13USCPq74W1X+07DRcg1EAFQi/XQ4gZyIy6ax0zS6h8BjrSxaAB3u9GQ7W3NofNL8uAC7njo7nprY0weDms+35keYE57TTd6fETlLeYRlGa9Jvujb5axMmd/9akx+M4938i4ZcH/2ugRDgACuTT3bzhBOqjm74MEfBN4zSG7gRBlrOnKBBdj0xb2im/6EClajjJ02af46frSKVEq44QGLtO98OVRzkeCQzC8dXGKgvyZgyxJmIrRzjRcoirHtWItiklQSpjYpiebyGP+ywVubDD2SZ+qYGWSHNNANb2t6Eqos5IXcDG3d4cY/GJToJVwhSEm2GAMhFC9jH2AhWh5eysq2wZgz+UneHJzZNRgHrdxmdxPeF+q9f2sDVqoNA/NpW9Jb6V94i2SVyxyFPoFEkppAgM7DtaoZe0inT6NTfXFKZFW5HH1aN5Jk6JoRZuK2IpxElwI7I8hWQRTbjk/Upp51JPxsmXJJXFIAivt/7NViLbQVYkezTu6NmsylEIS+RwCZbbUFnE2MLpVXP1ZvyiFQWj8RCC5WiFr01DZz+8PdQkWLcRScPjG+RLIoWBtgYL3fn1ej3jUjRI6npyWyEqIwUIz30F0RszvOvkm/4F2PasJZXKf07+jMWPAwNRA8kctler0E6eZFFmlf/imrCO0HSG1+esemSlGF+auFwUhluhMLOOAxX0Jn1C9cLjJE3VoyKQ9vybMgmq86mS/AhVf/MyvHVyU8yq+2s2oX9ElQzhQq07VIzCfpFIHjRht2wgeRaW3o8tmf3R2WYLQ2xYAR/UEVG4dprljqYck1JkGC5/ADfBepyPDA1kwscG7u0l0GFnFM8ihF9gyPRO62uxPXRJNyhBtltOvcxKvGlCMcROAIoH2nSzOW+YJg4lEF/D2DUoDh5SvcyEPtbfFDlB0iALBC4+0icqy1B0f2ffaeD180OzVOlXApxIzszCCR7O5/HiqzuD8TdZV8P/IVHMdH1AMAl45wMA/YJmfZu5wc4G1WH/b4sWTW7F7DR4PPICXKtv+d63hHDOJaoRo0293ODYIcqMlCzNJxbmG3J4ejJoG1+BZM7J93jsskvYVJTNnTUj4EbQOOofTxH/33xquRXN3F25fjBFCBiKRnR+MeTaHoOD2Rs4xlxH/rZ9s23iYT7aLfLXCym9+GZ2VQoEEt3J9C0EBTxOgDibS7UXYNEuXeggaA0UyO5RRxaoaguL3ZNJcIZu24boZQ0YojHWu0nNbqaNexDGxE2iVBMAAAiNQZqKSahBaJlMD//kQAABlgzu/M+rC0LQBb8QtGpy+n8gzze3ycI8wj02tUvB2fZFM4EmqbLDtAO8b4Waj0vmIUU+m6AFS98KTIzGA4xBTDXS62w8xWDrqlouwGDyOQBVTqmgMoYDWEGqF/MgWo6aaRStbVSYCfLQVhokvGJH+fPEi6RcZLE3o/LYr3pSzUb0QIekjtYZPPK9cv65mV/G//+GUq/cVxufMRqfsPkponqwe3JqTzBn+uA/Ns1oBPw0KmrTn4U3e37JRcR+zp2H7qTATKZdaLk0Q2ltwhuBYSVPo5Dw5HQMVeyN8SsT0iMUTtLQ5aLwuHoSuzvr6/ZRmdafAbxtQIMK0G2FZiq17YMjVSxDo8Tv6A0JMTs7Y2V/MS2DRzAoF45/B4jnVnL3bOmJfKicHcwM1Hv001fU7PelOF8lm3EhJEPSGYh0LivFC6jXo1zyAZfCFd7Ty30eo6cerUQDg68/ZSS2S7MrL4JFKPCWn6JqxhoQSKeKxeWLGhPm6I3YA6FMzSIXJ+eDD0lj2bY3T5semEmRSnZ6cfiXs+IUfS+3BNtHQBQnm0sx4ozjaN0RVm58LK9xs1qBe1xQFs/gHHpQUmJLGQAwoQ6RSqLL0Jcd2yLfeWPwl3p3aJq6Jv+9C+/D2UkNBbLdNFsqlBPcKG3VjleuXQPHu7OU7Y9+1xUSHECi2QR4lSK6sZkjZ1Xlnb3wCphcr3Vpyf2MQA0WzH/OT5dmYN4ee89A+eYfuqFhcg+zTizdvVffgD1sE3fM22qiGX3Yw62wBhqoXZIvylC2eMvVr9g/RYdq8O4xNPUdpjj7H3d6MVMjqK6+ABXqvKT6gwV/SORrXs2SnSlkDnhwhEVnafRolRnUSa/9oAbX2ABoIPShGt963ro4CJY6TlA+dnUwZMB0AdmXgxzEFrwNy+XroEEdnDY7oHRw5+/njc0tvPqndvt1FlTva1TFTwGq9t1rbmWw/B7PGSnhuDZbg6mGjuUS8u4L2e+YFSAVaNQGr/ZKID1GD04ADT70nJsPElfiVWH71YUutCcmDCxVdTbHcZS5rMrkZ/yvMNw3VgwTapO4MTkwPN3M/NVwu9WLmiTr4N+0sjt1J8inORhrP+YNnv29uGGx6bRzUtnbN0SHwJXOLwHiUnzTaSaF2min90UfanAgsGFu0QAJzW8DE/Q+nh3m1M/9VoxyvW5dpW+0oH1Lrl+EodoX34qbYD7w+gZU3hdOz2KRJyTW3DjjFojNhHBaCh/VoMQ7Kq/lbbYVOxDzVKwl8buRv1b8xcje6s/XKbMsUTFRsyE/l0NWtvfhD77QN9qygyEP8zomFX58MTIBy9lj07BVnLTMhgEHTsYUY5GDywViL033t4oPymmdloMJTpFQUkKBTqtu/JiAVISZc3WZrJb8R9mebvqX3Hvz3jilFe+Y/Zwlf5DNyGekNFu0ssL80/NUBBYG7kots+G4bowuRKEi7JONVrj+fRfa77xbJf8ts5l/x0J4BZO6qbuSkDPePZgR4Az4dGvIopL10XDSCGo2vSVHrRzdikL+DDODClHe+YkFv1uBWa3cy0E+i9CP4pNL+eLAuiVitAVOCt+P8xeC2Kkg3/lcDD6UD1i3T/p1KY0vRDMhS4EytsJhg4Mgd9V2CFY+b5ghMbpjWZJwAp4eO8Nr0YS9lx/Dcih3FoZY1SZf5w+L9I/XGbRsdzTQQ82IZtGMPoywfC6hET/l9JzBL/Ack51EXNJHJaoCCIulDETEIICEwEeXLRhoLyRNH4lcdbVwgyLrNCjebgWuse5/eZMGBmi193W+/vtSgmsPStcr8MwuRxoBHSAOhd8qumciZv6dsNle8eiPOx6cTacYZOpWV39Bc3r07a6b3SmGLUGrmcl4nTIm5kZy8WoHXm2eCb7gfSZQBkqkvqHp1/3v9ErdyhoYt8aI6z0PxaRCX/puTmJ2tmhYdCt4Ij767ofgi/bHbhiISVsMHvnU2S25guVa5tzBhima7o3CSMjRCE5o+LM7CHXwwgEET4mVn2HSbj7Wga3xD86t//IgUv5WYOGCZAAPXg9hNLKo709Buh8j0xsUlrBYkq/6+9qgANhHhsOV5qavAZCuQId8vEYbABqR3R+lJVipaSC4Je1v3YyoueYqoJ2/Dz35vehSKNNYn+YY2Y6Sc9Y98kZMkaXqzpU1fh5WHkR94wBS/dwaCja5tt+7lt79UROzPUpYT7CSSgZ/29hRAzH8tUUi7pw6e4ia2I1Zl7//ipi7AplwZ2IdOMv4rLc1oJePyTDwr6K8QY3sNhiJABBVGG0FnQ17E6PL5BGqUeVwGXlD/1U9BmD2KZA6FFFjLvlMGptG6N5manRPJwMp+zDF/SmMd9xxW/rZS4LaxAvm7OpVmoOE5WVxAgglASuPxBv+P4ISL8+DtQ8vFD5kd6iykPwG3i225ZyvcwsL16hdAXs6Gq2Is1zye9aUbA5YZGlB9Cln8OODa/xnpSID+znZsFUgUDPvCD5G3iMZiE2tlC78SK8R1GSFDJGaYJH2C4laC4+nVqMJPjXibBkdeW5nnUqMqWCukoL2/FP21o5zReysAdcX/MaC+OQVS9anCSr1SLHy866zn3TPAdoiq3bTKA/QSjrKabnLCgl14/6xv3Xk3PZVgr5k6NFeI9w18eKQnTfkySw/WTV56rI8INBRMulzhTbXLk20fpZLU5/z18HDBysbuVMjH8S8lEbqsUdKcWzGgjOJ5XydfuYQ6DOXqHZ7/cgoJjnECBohQ6hDC8+XiSThpfLJ9MQENQBx+/tE+jqyXJqVshoS0N+xzPZxsQeu9pmpcD1L5TUBn/S6il3AyUJTmtNdcwDOP4xwOrwU7EOMfKDzeibQebBUlyv1YJEsi0Grc8Uc1jSSrNeyFrPXSSwJ4BaSuiVewNS/B3kAAAZPQZ6oRREtfwUSWYwwRAWx9N37y7KxrZ4jWGLBTLWP6p6s/hw0fzcZ47ipRtrdej8vqMwGw6BHDm7OFoGgXRx3jsy5HkPqlYlKWWTVJYeEYXTeRu8q9NjwAPsmL2x3kFLS5RGxw/ap1Rc8CIf/fGhVr/QLDK8pmk7G7IDjIs7H0tHfWL1Yq3UkUom7jE+yWSsJ1UTUXrH3eqvhIfHL40m6x4UZqPqkVAOs33GdC3W4EpTO752q3dBf1Umf3BDl5LlAwGPSDN/jvYYwHgxAlcJWhVIk9JN2QYPvKQzZl4c78v27ZeqwpECljocqxXyP27EH6P0QpIzZuKhTqk+Ac+MBrybAVMRHKWIUDAW2kSDgz4xQO3a7msuQiUol+Ahnv5WmqkzXgMxRrl9rp21ADDWWjcagvVSDAMaa+Y8FqWoM8mvNYNaX8f37UaX4Ssfau/4IMUP2/c6Giw/eZh+s8nI3vIdZrSpbseGDvnX2jIzavSIirFzAJlYGrsFaO5QLA4gvC8P+kAA1QlbN+53/5cRjTKHZ3jv4iLnJCUGXtalhT5EzkN3Jn4GTnWmFPydGJ2hCXNIRmKt7N+uDuFQcfGarod2kaJysPiy/uSd/Gi4NLV7hdeYhI4G1LX7c4oLLgySCKwGCbDCCP1yILDWGB4G0yoAlE0hDsXunjDlGXkauko+/VN2yTiyxAk/wNOyBpDYmA5xPmy2SE/M6WJoKOZpwKWs4mxt2qJl3GIzp9sSbpooGpyq5zkUHVgm16nBqJmCtiyB58/jDGZIMeTpVGpUzJxeJBOhO6hIVv0ZK+JJO5wcForfsw0jurdH/z247ITnJpwHXP0fK4hNVCWpg8atOAAadIS9/J4Gxd8IuNzX73TiCUGFNs94p6NwO3+ML8H0ihfG/ofozF/TJ8DYXS4Ur3MW97MK7I4K61NLNGb05/CPO6bUwRxo1HGBaPJRRS7xoFKApAMlTYowuldh4kwACNXFewAlw3GZ0oPJCOJQYIsNLFEVlxJy26l3tvosBsNT53uf9/Dfo2onsyqBq7wnzBeqoUftOx2tE+4EuInedQbJKesSWXmJgkxD3XCv6p5rxkeG4e2jyrk/wtbpc4OfuWYJCMh6DzZXnSHOLqmEKDR0INxwYNIygZ8U3Iu8PzK55FDqWYotwLq7vmz2il3qCzWry7sRDc1scXPYgHSds59U+5SWycLYyZCBBTcFKw2IOOifXMXT51sWUzECC3Ndi/0hkKZpoSefiy/aShFXmJE8EXeuQxfvEoH1FnYdQlN9cKIV674XTbnGW7mEmSirKucCjdYRGXXbYZ0v0fYyeVrY0HvDgDS1ZoUe32s0m/SrMQtMGhn9KkRjP6o8wj47AgL2AAuOJ+U++qBLTP1ach9bGk+12Bz9lgOoEELQN8Ii7g4gdEXR10Mn4sajpfPKXa69HxXzh4VEUuHlysAA/r6ACYluzQtxlz/9B+x/Dwfin/I0Sbz5TLbtmnwCP6Y4ZspNP5v7ShdBa3B5kdmcM+HZGmgSwww4Bwpp3kjFb1gIfER/AZKZy9vWZO43Am/iMKF41ID2+z9yU1MsW+xnHyrPouTqk4R8BFPK+gn3W/CbY4373ysup+aY1nc+/821516OIVTbwpZ8ngOmonJjHlHZOgZAgqIhy08Ich/qBt/emmU8+rSDHY5Nijlsfgx1zcTEfAd8p7ROPxFm/nfBhzBGaGqvjml7izGH4lEqm4PWghgCoF+k42wAbIEV/suBMtQfzDPCw48yzxb2AwQH1cBpDZEF2TpZ0UW0mYaklcPUgtdHJuKdyxUHNORaXduo71e+rmNWw8okXTzjM8gqXEYJ4p/O9Z5N7CIhCB4AtyPFBAo6x936yKmkbnTq6FJW76oK7DKf366hQrkHDgaZqEw/A8Ds3XW0BktmH/QZ/mDCMj78+5hXldEcOWBxZPSOgwrJT162xN73BdnUNZH88h1BQ747AyIgEQz3y/N3XYkDxJ5yZ3PYMJseGqKDX0XLpdcSK3+i4bYWArNkfZOHhIy+vdKUhNIVmJ6tuYKgvO+wQUisr+gRpUl6TOS56+OLygUJWKXdJdGeAoEiV6YG+n+NhnnO4nwjx0/qHNWYF7DPQrXBPPPVJ38p2p0K/1X/tAhHJGHxZZpmO6AXQPv2YzgAABKYBnsd0Sf8F4wao6UNjiONTyMRaDCtMTBS/h7+j6suCl6Po4LZigfjsRryyW+xTCrjTLQCU2H6a5BJfd65QDJT0VQYGEFbXX2C3jA9IjLuiE2wyd0JdxmcjnQ1uBGlgjpNr3G/9j4ScaB7CITfhivR0E4zi8QDhpHDVDKRq76Mg5Zj72MxS88BBDpXsreQDY7rr/s/iAGFy2CrTrDbe/bYY2JD6B2PuH2t+PaXWE8ZOfG4ovmHjhzeXCdsxCfRwCRrFhkr8DDmgReD2f3Ioce1MkJKvdqjcqWiKaczeuOB6B6HZHTfx8ZMC8abS7/T4XTlmDxLbX9yAd9ZsuM7h4O21qhDeVvstg/eXJEZ8jDl+crIeNV3ji4KsAdOwzNfNeDHeKC7YXeObuoDUGQLdxK9kV/dfrvNqgU8ushdiy99x1hm1Q5dCfvfPmbh7D6uqdO2PgpVBwz//xi0l9gnert5hOosCoKt71GNcy8B7iH+lnWERpLZzXtxN6IOzCOOBvJtb4bJKrMk2byCp/7OZmiABtARdkmw2nrCbVhbs7X/zScw7ciBD0AtZacXqXfe6EbGA7AlsKg7gqmlCnhZ1ND9gtaTU3fr8FYIX2PQjfQrYFtU7PXlufBX79J/zxFyf0PkAVu4ADw/Fx8ZGbTcLS570KhKP8US1zTIg2ydh1puU+jmeCHhzdiMVn5hcoVGYjgwPICwxWD7zuNieawkYLvk012iIbKflD7tkVwUVEVY2+8kbsbzAWtl0GKkq/NmKh0+DyR4CqJ/7Pv1nVCvp6PLQwm/Nm2HjVR0kqpuF+fYGXixk6a3CBRMIYVGPjRhgGFlxUCc3oY0HqhFqVTlv+cclXQ31AQFLzasqAukvhTT0BnoQrX3wB8p5RwzkJWpxqh2h+yWl4CTSlux3dhX1OmaaoPZ+c/KFiYLQUFHsw7UpfO9JXENNdQWe0FykYNrssYsl5WFHU0bAh38wJhq7m6uNYHfLBIpm9E+Jiwlx3VNRfryCdDKVr+Op3Q5//kcFldFbNjwCRVob0W7UViNuSKkF2M0r+YYcU6NAJh+2skEZjWGED9TW00ux1UPHR/Kg7y7/uqBwuyQrKb3iq3IXgDTmo9ex/l6S6Bj6mJZBa3QvnRTOoudRFUHcKpoKqDjp8KpLQfBeQL9M6kk2hDUy6rS014Yp0woSuGysuJbUT2E4VIAp1B9fsIAV2p7JxKr28vUdt8UST0j++xnGv2HBVHawcPDdIZPG6RGubzjTB8rm7RlNEjRLXMffK7nqp9EyZ6qtWho0sVRtZkxk7a8EeWwnaEd7UU9R10QHDtuiSfuaBiSmQEnlOc4GQ9uM5Du7/ZHzbkfueotdOW18E0pN/APDcyMTrLReIyuCpkugu9Qm51AC86AqtLhha5dMxvPlokQoCH7Y8eWIzbNyI17TZiDyUlEwFD9BBoTrQi5pEsx7uZwt5E4dP0bmYVSfvMFC4JPYg/YJld//jhyG6rY1gkVRzFen0QV4+vU/82vk7Xyz+Gy7/o31+HFDrk0iTyjWCtL1m301EV4HgHfMRZrGBFQi8Aa2/3LZVKwqV80CM9T99zi3vBPfgAAABXcBnslqSf8AA66av7GU4Bm/WGeLXgXV2vO3FdqFViBAFaZ7SD05TnK8GsD70dNgR1YvlvvXdUNvrR0Mfq646Ec0i0dCf6xOdlffHzRe3jPOJH4Nfuo+ZObPku5Xho9+6oA79QjoXxlM4h+Gbf5GTdIvIGf2ZWNXEkiG8jPamev+Vu0HZihh6udonYfKjOKEAnwqRX6l0390dh5mKv0KdhcBtUwDaIWaZ8botCjXZiTz4tHe1nVKGX5ZQNxzyUwvw7D0yI71OdhkoPTnrTFNBIfpc9IMQldXFGF1644sqZEDQ77/zd6pLsTuKMiqLmWoOO17rIFH8XvFqDB1lgVdznDA0X9sJKk2I6x4/LmS9nyF1M9LW8reFpvF79tD0nEl0sKJU59FVief2DDoQJLHhikM2spzpux7rFEhN/2kiImG5HffieESOesJHk20FOYXPTiBsyWQSkOYduentkzXMZZ8LKI9x1oeEEuOGbNcIwTWhnuYqBs0AVwzIA0NS5I7hy1ujUf2RcjFgBZ+tUpYcOGw34MO1PNqaGeYStOVdG6KlKKc8APvJgxMfwMGMUB6kQtlrrayxuGW8k/eoqAeI3bCAFhGhJU9lMtaB+OyifW+2VWRJNnrC0DTe6JvJqjxaPNa77ofAMnhOL+he7gRteqBInjNXGQsV65qHsUCAN/67w5cHl8cB1p174XVrfEAM07oYI/LCkWPkRnpg8DhlXTt/ZWf3ubgh9JFjCRfnKLveZkTtHCGaiyvBYROpSFsnEXY5sod/l14RDN40cDo0Q+6xST1w1i+K9VwmvpIpwqgrSook2kqn3SUfgRos4lG827fEE3VBtx151v1gDJuFwMz/KMI5qtP15XdK+ygUJ8Yzr4IZloBlR18hpyspe8XPfRnHCEvzfC73PhWz98mO9XwCgEB/7aIvVh7rDsCdu/W9wm3xVQ7FA9ymPrt6ukWpTo2QBEEMUYmsmGHtD21HmOqSQAbRuORTgHnz4NFdyeb8qpzLsVAHzW5jH/OqJUCbvsr6S1BVzHv03qIk8gpJPSzO8LjmPsgKFRGUvslOJJWrdadu+IcC0Djw6Y1i32LNoYg3FCzQ8EJw6y2D8M758QHQYGxBIf0Lc7IuCuzZ94A3NyV0+Fxebbf+65D8nx3idffFTik+IABGCSJhVjmVV9W010ZPbD9Jca/kdh28nvjI9zSNNN71yIXZGF92iYq0IG860pCmP9lkHktRsp6YACE8+b0Md1RUjOrrS3B7Ai/H2HprCqqxWdGqG/BBFF1ZYVyMHE1AVi1ev02yAWrfTm8YMTDZySMXKdoebYScDlXnh/VvnQC1uKrDKTmNQB1lNiOEHTSkTcKqZb+ub9/Iv9GYQXXuXUqSJy4NEL4SbzNZ3qHSae4XShAHxTxNKoI64xwePRv5QKKPgacj0aD5nItEp6uM/I9h4zNCzBx0z+rhmdlWKm5+jR2q/JX5goCCL1RkkGReeEyqsR3TEa/dtgZk9+8Uq/DG7ByB8vS5a+b5qFdeLGj+nd/VDq54XyVT0FBzylGv1kjd1TlVq7zvr2K7NcdqoLN2AipcJDJ5Og1xOhNW/7qOQuQkZjZZkc51s6SDYqSWTY4hq0Pi9obL/yGkDeXvczJUCn8o75N0p6bo6ortdhPucGvJZtKD/NsYkREwqK5l+Zk1xcdt6Wh/ZypONFXb3B3bbR0vbJIAm1o11CJ1srBdbD3Vwg90RYl5KqN9BI6BKkZGLzeAHcscqSeFHzWOXEnbEnR5rt4gVM2GIueiwxvFqUM6Af7C/7693mkxnZ1jq/EwlTwZ72S6Yt7a3VeZGBC09nqWtpECqcUbvGoZYBzqmRnmubZkITFmp6yktgS1uQtAAADrm1vb3YAAABsbXZoZAAAAAAAAAAAAAAAAAAAA+gAAAImAAEAAAEAAAAAAAAAAAAAAAABAAAAAAAAAAAAAAAAAAAAAQAAAAAAAAAAAAAAAAAAQAAAAAAAAAAAAAAAAAAAAAAAAAAAAAAAAAAAAAAAAAIAAALYdHJhawAAAFx0a2hkAAAAAwAAAAAAAAAAAAAAAQAAAAAAAAImAAAAAAAAAAAAAAAAAAAAAAABAAAAAAAAAAAAAAAAAAAAAQAAAAAAAAAAAAAAAAAAQAAAAAHgAAAB4AAAAAAAJGVkdHMAAAAcZWxzdAAAAAAAAAABAAACJgAABAAAAQAAAAACUG1kaWEAAAAgbWRoZAAAAAAAAAAAAAAAAAAAKAAAABYAVcQAAAAAAC1oZGxyAAAAAAAAAAB2aWRlAAAAAAAAAAAAAAAAVmlkZW9IYW5kbGVyAAAAAfttaW5mAAAAFHZtaGQAAAABAAAAAAAAAAAAAAAkZGluZgAAABxkcmVmAAAAAAAAAAEAAAAMdXJsIAAAAAEAAAG7c3RibAAAAK9zdHNkAAAAAAAAAAEAAACfYXZjMQAAAAAAAAABAAAAAAAAAAAAAAAAAAAAAAHgAeAASAAAAEgAAAAAAAAAARVMYXZjNjAuMzEuMTAyIGxpYngyNjQAAAAAAAAAAAAAABj//wAAADVhdmNDAWQAFv/hABhnZAAWrNlB4PaEAAADAAQAAAMAoDxYtlgBAAZo6+GyyLD9+PgAAAAAFGJ0cnQAAAAAAAZfwgAGX8IAAAAYc3R0cwAAAAAAAAABAAAACwAAAgAAAAAUc3RzcwAAAAAAAAABAAAAAQAAAGhjdHRzAAAAAAAAAAsAAAABAAAEAAAAAAEAAAYAAAAAAQAAAgAAAAABAAAKAAAAAAEAAAQAAAAAAQAAAAAAAAABAAACAAAAAAEAAAoAAAAAAQAABAAAAAABAAAAAAAAAAEAAAIAAAAAHHN0c2MAAAAAAAAAAQAAAAEAAAALAAAAAQAAAEBzdHN6AAAAAAAAAAAAAAALAAA0XgAACQMAAASeAAAGygAABdsAAAQ8AAAERgAACJEAAAZTAAAEqgAABXsAAAAUc3RjbwAAAAAAAAABAAAAMAAAAGJ1ZHRhAAAAWm1ldGEAAAAAAAAAIWhkbHIAAAAAAAAAAG1kaXJhcHBsAAAAAAAAAAAAAAAALWlsc3QAAAAlqXRvbwAAAB1kYXRhAAAAAQAAAABMYXZmNjAuMTYuMTAw\" type=\"video/mp4\"/>\n",
       "      This browser does not support the video tag.\n",
       "      </video></td></tr></table>"
      ],
      "text/plain": [
       "<IPython.core.display.HTML object>"
      ]
     },
     "metadata": {},
     "output_type": "display_data"
    }
   ],
   "source": [
    "import mediapy as media\n",
    "\n",
    "def render_env_video(max_steps=100, fps=20):\n",
    "    \"\"\"Collect frames and show as video in Jupyter.\"\"\"\n",
    "    env = LeLampEnv(render_mode=\"rgb_array\")\n",
    "    obs, info = env.reset()\n",
    "    \n",
    "    frames = []\n",
    "    rewards = []\n",
    "    \n",
    "    # Collect frames\n",
    "    for i in range(max_steps):\n",
    "        action = env.action_space.sample()\n",
    "        obs, reward, terminated, truncated, info = env.step(action)\n",
    "        \n",
    "        # Get frame and store\n",
    "        frame = env.render()\n",
    "        if frame is not None:\n",
    "            frames.append(frame)\n",
    "            rewards.append(reward)\n",
    "        \n",
    "        if terminated or truncated:\n",
    "            print(f\"Episode ended at step {i+1}\")\n",
    "            break\n",
    "    \n",
    "    env.close()\n",
    "    \n",
    "    # Show video using media.show_video\n",
    "    if frames:\n",
    "        print(f\"Collected {len(frames)} frames\")\n",
    "        print(f\"Total reward: {sum(rewards):.3f}\")\n",
    "        media.show_video(frames, fps=fps)\n",
    "    else:\n",
    "        print(\"No frames collected!\")\n",
    "\n",
    "# Just run this in a Jupyter cell:\n",
    "render_env_video()\n"
   ]
  },
  {
   "cell_type": "markdown",
   "id": "271db6e1",
   "metadata": {},
   "source": [
    "# Train with PPO"
   ]
  },
  {
   "cell_type": "code",
   "execution_count": 26,
   "id": "f502d202",
   "metadata": {},
   "outputs": [],
   "source": [
    "from stable_baselines3 import PPO\n",
    "from stable_baselines3.common.env_checker import check_env\n",
    "from stable_baselines3.common.callbacks import EvalCallback, CheckpointCallback\n",
    "from stable_baselines3.common.monitor import Monitor"
   ]
  },
  {
   "cell_type": "code",
   "execution_count": 27,
   "id": "2b4698b3",
   "metadata": {},
   "outputs": [
    {
     "name": "stdout",
     "output_type": "stream",
     "text": [
      "✓ Environment validation passed\n"
     ]
    }
   ],
   "source": [
    "# Create environment\n",
    "env = LeLampEnv()\n",
    "\n",
    "# Check environment is valid\n",
    "check_env(env)\n",
    "print(\"✓ Environment validation passed\")\n",
    "\n",
    "# Wrap environment for monitoring\n",
    "env = Monitor(env, \"./logs/\")"
   ]
  },
  {
   "cell_type": "code",
   "execution_count": 28,
   "id": "d2267d71",
   "metadata": {},
   "outputs": [
    {
     "name": "stdout",
     "output_type": "stream",
     "text": [
      "Using cuda device\n",
      "Wrapping the env in a DummyVecEnv.\n"
     ]
    },
    {
     "name": "stderr",
     "output_type": "stream",
     "text": [
      "/home/binh/miniforge3/envs/mujoco/lib/python3.11/site-packages/stable_baselines3/common/on_policy_algorithm.py:150: UserWarning: You are trying to run PPO on the GPU, but it is primarily intended to run on the CPU when not using a CNN policy (you are using ActorCriticPolicy which should be a MlpPolicy). See https://github.com/DLR-RM/stable-baselines3/issues/1245 for more info. You can pass `device='cpu'` or `export CUDA_VISIBLE_DEVICES=` to force using the CPU.Note: The model will train, but the GPU utilization will be poor and the training might take longer than on CPU.\n",
      "  warnings.warn(\n"
     ]
    }
   ],
   "source": [
    "# Create model\n",
    "model = PPO(\n",
    "    \"MlpPolicy\",\n",
    "    env,\n",
    "    verbose=1,\n",
    "    tensorboard_log=\"./tensorboard_logs/\",\n",
    "    learning_rate=3e-4,\n",
    "    n_steps=2048,\n",
    "    batch_size=64,\n",
    "    n_epochs=10,\n",
    "    clip_range=0.2,\n",
    ")"
   ]
  },
  {
   "cell_type": "code",
   "execution_count": 29,
   "id": "77c273f4",
   "metadata": {},
   "outputs": [],
   "source": [
    "# Set up callbacks\n",
    "eval_env = Monitor(LeLampEnv())\n",
    "eval_callback = EvalCallback(\n",
    "    eval_env,\n",
    "    best_model_save_path=\"./models/\",\n",
    "    log_path=\"./logs/\",\n",
    "    eval_freq=10000,\n",
    "    deterministic=True,\n",
    "    render=False,\n",
    ")"
   ]
  },
  {
   "cell_type": "code",
   "execution_count": 30,
   "id": "10bd6982",
   "metadata": {},
   "outputs": [],
   "source": [
    "checkpoint_callback = CheckpointCallback(\n",
    "    save_freq=50000,\n",
    "    save_path=\"./checkpoints/\",\n",
    "    name_prefix=\"lelamp_ppo\",\n",
    ")"
   ]
  },
  {
   "cell_type": "code",
   "execution_count": null,
   "id": "6974e304",
   "metadata": {},
   "outputs": [
    {
     "name": "stdout",
     "output_type": "stream",
     "text": [
      "Logging to ./tensorboard_logs/PPO_1\n"
     ]
    },
    {
     "data": {
      "text/html": [
       "<pre style=\"white-space:pre;overflow-x:auto;line-height:normal;font-family:Menlo,'DejaVu Sans Mono',consolas,'Courier New',monospace\">/home/binh/miniforge3/envs/mujoco/lib/python3.11/site-packages/rich/live.py:256: UserWarning: install \"ipywidgets\" \n",
       "for Jupyter support\n",
       "  warnings.warn('install \"ipywidgets\" for Jupyter support')\n",
       "</pre>\n"
      ],
      "text/plain": [
       "/home/binh/miniforge3/envs/mujoco/lib/python3.11/site-packages/rich/live.py:256: UserWarning: install \"ipywidgets\" \n",
       "for Jupyter support\n",
       "  warnings.warn('install \"ipywidgets\" for Jupyter support')\n"
      ]
     },
     "metadata": {},
     "output_type": "display_data"
    },
    {
     "name": "stdout",
     "output_type": "stream",
     "text": [
      "---------------------------------\n",
      "| rollout/           |          |\n",
      "|    ep_len_mean     | 7.16     |\n",
      "|    ep_rew_mean     | 30.7     |\n",
      "| time/              |          |\n",
      "|    fps             | 1057     |\n",
      "|    iterations      | 1        |\n",
      "|    time_elapsed    | 1        |\n",
      "|    total_timesteps | 2048     |\n",
      "---------------------------------\n",
      "----------------------------------------\n",
      "| rollout/                |            |\n",
      "|    ep_len_mean          | 8.61       |\n",
      "|    ep_rew_mean          | 37.7       |\n",
      "| time/                   |            |\n",
      "|    fps                  | 853        |\n",
      "|    iterations           | 2          |\n",
      "|    time_elapsed         | 4          |\n",
      "|    total_timesteps      | 4096       |\n",
      "| train/                  |            |\n",
      "|    approx_kl            | 0.02072424 |\n",
      "|    clip_fraction        | 0.25       |\n",
      "|    clip_range           | 0.2        |\n",
      "|    entropy_loss         | -7.1       |\n",
      "|    explained_variance   | 0.0081     |\n",
      "|    learning_rate        | 0.0003     |\n",
      "|    loss                 | 162        |\n",
      "|    n_updates            | 10         |\n",
      "|    policy_gradient_loss | -0.0395    |\n",
      "|    std                  | 1          |\n",
      "|    value_loss           | 443        |\n",
      "----------------------------------------\n",
      "-----------------------------------------\n",
      "| rollout/                |             |\n",
      "|    ep_len_mean          | 10.6        |\n",
      "|    ep_rew_mean          | 47.9        |\n",
      "| time/                   |             |\n",
      "|    fps                  | 820         |\n",
      "|    iterations           | 3           |\n",
      "|    time_elapsed         | 7           |\n",
      "|    total_timesteps      | 6144        |\n",
      "| train/                  |             |\n",
      "|    approx_kl            | 0.019822273 |\n",
      "|    clip_fraction        | 0.233       |\n",
      "|    clip_range           | 0.2         |\n",
      "|    entropy_loss         | -7.08       |\n",
      "|    explained_variance   | 0.00319     |\n",
      "|    learning_rate        | 0.0003      |\n",
      "|    loss                 | 267         |\n",
      "|    n_updates            | 20          |\n",
      "|    policy_gradient_loss | -0.0377     |\n",
      "|    std                  | 0.995       |\n",
      "|    value_loss           | 489         |\n",
      "-----------------------------------------\n",
      "-----------------------------------------\n",
      "| rollout/                |             |\n",
      "|    ep_len_mean          | 12          |\n",
      "|    ep_rew_mean          | 54.6        |\n",
      "| time/                   |             |\n",
      "|    fps                  | 815         |\n",
      "|    iterations           | 4           |\n",
      "|    time_elapsed         | 10          |\n",
      "|    total_timesteps      | 8192        |\n",
      "| train/                  |             |\n",
      "|    approx_kl            | 0.013967104 |\n",
      "|    clip_fraction        | 0.174       |\n",
      "|    clip_range           | 0.2         |\n",
      "|    entropy_loss         | -7.04       |\n",
      "|    explained_variance   | 0.00663     |\n",
      "|    learning_rate        | 0.0003      |\n",
      "|    loss                 | 243         |\n",
      "|    n_updates            | 30          |\n",
      "|    policy_gradient_loss | -0.0291     |\n",
      "|    std                  | 0.987       |\n",
      "|    value_loss           | 549         |\n",
      "-----------------------------------------\n"
     ]
    }
   ],
   "source": [
    "# Train the model\n",
    "model.learn(\n",
    "    total_timesteps=1000000,  # 1M steps\n",
    "    callback=[eval_callback, checkpoint_callback],\n",
    "    progress_bar=True,\n",
    ")"
   ]
  },
  {
   "cell_type": "code",
   "execution_count": null,
   "id": "1e9eb131",
   "metadata": {},
   "outputs": [],
   "source": [
    "model.save(\"lelamp_ppo_final\")"
   ]
  }
 ],
 "metadata": {
  "kernelspec": {
   "display_name": "mujoco",
   "language": "python",
   "name": "python3"
  },
  "language_info": {
   "codemirror_mode": {
    "name": "ipython",
    "version": 3
   },
   "file_extension": ".py",
   "mimetype": "text/x-python",
   "name": "python",
   "nbconvert_exporter": "python",
   "pygments_lexer": "ipython3",
   "version": "3.11.13"
  }
 },
 "nbformat": 4,
 "nbformat_minor": 5
}
