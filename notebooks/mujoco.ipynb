{
 "cells": [
  {
   "cell_type": "markdown",
   "id": "8a5effd5",
   "metadata": {},
   "source": [
    "# Preparation"
   ]
  },
  {
   "cell_type": "markdown",
   "id": "1dc37e9d",
   "metadata": {},
   "source": [
    "## Install MuJoCo, MJX, and Brax"
   ]
  },
  {
   "cell_type": "code",
   "execution_count": 1,
   "id": "e9cd4ab9",
   "metadata": {},
   "outputs": [
    {
     "name": "stdout",
     "output_type": "stream",
     "text": [
      "Requirement already satisfied: mujoco in /Users/binhpham/miniconda3/envs/mujoco-tut/lib/python3.13/site-packages (3.3.4)\n",
      "Requirement already satisfied: absl-py in /Users/binhpham/miniconda3/envs/mujoco-tut/lib/python3.13/site-packages (from mujoco) (2.3.1)\n",
      "Requirement already satisfied: etils[epath] in /Users/binhpham/miniconda3/envs/mujoco-tut/lib/python3.13/site-packages (from mujoco) (1.12.2)\n",
      "Requirement already satisfied: glfw in /Users/binhpham/miniconda3/envs/mujoco-tut/lib/python3.13/site-packages (from mujoco) (2.9.0)\n",
      "Requirement already satisfied: numpy in /Users/binhpham/miniconda3/envs/mujoco-tut/lib/python3.13/site-packages (from mujoco) (2.3.1)\n",
      "Requirement already satisfied: pyopengl in /Users/binhpham/miniconda3/envs/mujoco-tut/lib/python3.13/site-packages (from mujoco) (3.1.9)\n",
      "Requirement already satisfied: fsspec in /Users/binhpham/miniconda3/envs/mujoco-tut/lib/python3.13/site-packages (from etils[epath]->mujoco) (2025.5.1)\n",
      "Requirement already satisfied: importlib_resources in /Users/binhpham/miniconda3/envs/mujoco-tut/lib/python3.13/site-packages (from etils[epath]->mujoco) (6.5.2)\n",
      "Requirement already satisfied: typing_extensions in /Users/binhpham/miniconda3/envs/mujoco-tut/lib/python3.13/site-packages (from etils[epath]->mujoco) (4.14.1)\n",
      "Requirement already satisfied: zipp in /Users/binhpham/miniconda3/envs/mujoco-tut/lib/python3.13/site-packages (from etils[epath]->mujoco) (3.23.0)\n",
      "Collecting mujoco_mjx\n",
      "  Downloading mujoco_mjx-3.3.4-py3-none-any.whl.metadata (3.4 kB)\n",
      "Requirement already satisfied: absl-py in /Users/binhpham/miniconda3/envs/mujoco-tut/lib/python3.13/site-packages (from mujoco_mjx) (2.3.1)\n",
      "Requirement already satisfied: etils[epath] in /Users/binhpham/miniconda3/envs/mujoco-tut/lib/python3.13/site-packages (from mujoco_mjx) (1.12.2)\n",
      "Collecting jax (from mujoco_mjx)\n",
      "  Downloading jax-0.7.0-py3-none-any.whl.metadata (13 kB)\n",
      "Collecting jaxlib (from mujoco_mjx)\n",
      "  Downloading jaxlib-0.7.0-cp313-cp313-macosx_11_0_arm64.whl.metadata (1.3 kB)\n",
      "Requirement already satisfied: mujoco>=3.3.4.dev0 in /Users/binhpham/miniconda3/envs/mujoco-tut/lib/python3.13/site-packages (from mujoco_mjx) (3.3.4)\n",
      "Requirement already satisfied: scipy in /Users/binhpham/miniconda3/envs/mujoco-tut/lib/python3.13/site-packages (from mujoco_mjx) (1.16.0)\n",
      "Collecting trimesh (from mujoco_mjx)\n",
      "  Using cached trimesh-4.7.1-py3-none-any.whl.metadata (18 kB)\n",
      "Requirement already satisfied: glfw in /Users/binhpham/miniconda3/envs/mujoco-tut/lib/python3.13/site-packages (from mujoco>=3.3.4.dev0->mujoco_mjx) (2.9.0)\n",
      "Requirement already satisfied: numpy in /Users/binhpham/miniconda3/envs/mujoco-tut/lib/python3.13/site-packages (from mujoco>=3.3.4.dev0->mujoco_mjx) (2.3.1)\n",
      "Requirement already satisfied: pyopengl in /Users/binhpham/miniconda3/envs/mujoco-tut/lib/python3.13/site-packages (from mujoco>=3.3.4.dev0->mujoco_mjx) (3.1.9)\n",
      "Requirement already satisfied: fsspec in /Users/binhpham/miniconda3/envs/mujoco-tut/lib/python3.13/site-packages (from etils[epath]->mujoco_mjx) (2025.5.1)\n",
      "Requirement already satisfied: importlib_resources in /Users/binhpham/miniconda3/envs/mujoco-tut/lib/python3.13/site-packages (from etils[epath]->mujoco_mjx) (6.5.2)\n",
      "Requirement already satisfied: typing_extensions in /Users/binhpham/miniconda3/envs/mujoco-tut/lib/python3.13/site-packages (from etils[epath]->mujoco_mjx) (4.14.1)\n",
      "Requirement already satisfied: zipp in /Users/binhpham/miniconda3/envs/mujoco-tut/lib/python3.13/site-packages (from etils[epath]->mujoco_mjx) (3.23.0)\n",
      "Collecting ml_dtypes>=0.5.0 (from jax->mujoco_mjx)\n",
      "  Downloading ml_dtypes-0.5.3-cp313-cp313-macosx_10_13_universal2.whl.metadata (8.9 kB)\n",
      "Collecting opt_einsum (from jax->mujoco_mjx)\n",
      "  Downloading opt_einsum-3.4.0-py3-none-any.whl.metadata (6.3 kB)\n",
      "Downloading mujoco_mjx-3.3.4-py3-none-any.whl (6.7 MB)\n",
      "\u001b[2K   \u001b[38;2;114;156;31m━━━━━━━━━━━━━━━━━━━━━━━━━━━━━━━━━━━━━━━━\u001b[0m \u001b[32m6.7/6.7 MB\u001b[0m \u001b[31m10.6 MB/s\u001b[0m eta \u001b[36m0:00:00\u001b[0m[36m0:00:01\u001b[0m[36m0:00:01\u001b[0m01\u001b[0m\n",
      "\u001b[?25hDownloading jax-0.7.0-py3-none-any.whl (2.8 MB)\n",
      "\u001b[2K   \u001b[38;2;114;156;31m━━━━━━━━━━━━━━━━━━━━━━━━━━━━━━━━━━━━━━━━\u001b[0m \u001b[32m2.8/2.8 MB\u001b[0m \u001b[31m11.9 MB/s\u001b[0m eta \u001b[36m0:00:00\u001b[0m MB/s\u001b[0m eta \u001b[36m0:00:01\u001b[0m\n",
      "\u001b[?25hDownloading jaxlib-0.7.0-cp313-cp313-macosx_11_0_arm64.whl (56.7 MB)\n",
      "\u001b[2K   \u001b[38;2;114;156;31m━━━━━━━━━━━━━━━━━━━━━━━━━━━━━━━━━━━━━━━━\u001b[0m \u001b[32m56.7/56.7 MB\u001b[0m \u001b[31m11.9 MB/s\u001b[0m eta \u001b[36m0:00:00\u001b[0m[36m0:00:01\u001b[0mm eta \u001b[36m0:00:01\u001b[0m\n",
      "\u001b[?25hDownloading ml_dtypes-0.5.3-cp313-cp313-macosx_10_13_universal2.whl (663 kB)\n",
      "\u001b[2K   \u001b[38;2;114;156;31m━━━━━━━━━━━━━━━━━━━━━━━━━━━━━━━━━━━━━━━━\u001b[0m \u001b[32m663.8/663.8 kB\u001b[0m \u001b[31m14.8 MB/s\u001b[0m eta \u001b[36m0:00:00\u001b[0m\n",
      "\u001b[?25hDownloading opt_einsum-3.4.0-py3-none-any.whl (71 kB)\n",
      "Using cached trimesh-4.7.1-py3-none-any.whl (709 kB)\n",
      "Installing collected packages: trimesh, opt_einsum, ml_dtypes, jaxlib, jax, mujoco_mjx\n",
      "\u001b[2K   \u001b[38;2;114;156;31m━━━━━━━━━━━━━━━━━━━━━━━━━━━━━━━━━━━━━━━━\u001b[0m \u001b[32m6/6\u001b[0m [mujoco_mjx]\u001b[0m \u001b[32m5/6\u001b[0m [mujoco_mjx]\n",
      "\u001b[1A\u001b[2KSuccessfully installed jax-0.7.0 jaxlib-0.7.0 ml_dtypes-0.5.3 mujoco_mjx-3.3.4 opt_einsum-3.4.0 trimesh-4.7.1\n",
      "Collecting brax\n",
      "  Downloading brax-0.12.4-py3-none-any.whl.metadata (20 kB)\n",
      "Requirement already satisfied: absl-py in /Users/binhpham/miniconda3/envs/mujoco-tut/lib/python3.13/site-packages (from brax) (2.3.1)\n",
      "Requirement already satisfied: etils in /Users/binhpham/miniconda3/envs/mujoco-tut/lib/python3.13/site-packages (from brax) (1.12.2)\n",
      "Collecting flask (from brax)\n",
      "  Using cached flask-3.1.1-py3-none-any.whl.metadata (3.0 kB)\n",
      "Collecting flask-cors (from brax)\n",
      "  Downloading flask_cors-6.0.1-py3-none-any.whl.metadata (5.3 kB)\n",
      "Collecting flax (from brax)\n",
      "  Downloading flax-0.11.0-py3-none-any.whl.metadata (11 kB)\n",
      "Requirement already satisfied: jax>=0.4.6 in /Users/binhpham/miniconda3/envs/mujoco-tut/lib/python3.13/site-packages (from brax) (0.7.0)\n",
      "Requirement already satisfied: jaxlib>=0.4.6 in /Users/binhpham/miniconda3/envs/mujoco-tut/lib/python3.13/site-packages (from brax) (0.7.0)\n",
      "Collecting jaxopt (from brax)\n",
      "  Downloading jaxopt-0.8.5-py3-none-any.whl.metadata (3.3 kB)\n",
      "Requirement already satisfied: jinja2 in /Users/binhpham/miniconda3/envs/mujoco-tut/lib/python3.13/site-packages (from brax) (3.1.6)\n",
      "Collecting ml-collections (from brax)\n",
      "  Downloading ml_collections-1.1.0-py3-none-any.whl.metadata (22 kB)\n",
      "Requirement already satisfied: mujoco in /Users/binhpham/miniconda3/envs/mujoco-tut/lib/python3.13/site-packages (from brax) (3.3.4)\n",
      "Requirement already satisfied: mujoco-mjx in /Users/binhpham/miniconda3/envs/mujoco-tut/lib/python3.13/site-packages (from brax) (3.3.4)\n",
      "Requirement already satisfied: numpy in /Users/binhpham/miniconda3/envs/mujoco-tut/lib/python3.13/site-packages (from brax) (2.3.1)\n",
      "Collecting optax (from brax)\n",
      "  Downloading optax-0.2.5-py3-none-any.whl.metadata (7.5 kB)\n",
      "Collecting orbax-checkpoint (from brax)\n",
      "  Downloading orbax_checkpoint-0.11.20-py3-none-any.whl.metadata (2.3 kB)\n",
      "Requirement already satisfied: pillow in /Users/binhpham/miniconda3/envs/mujoco-tut/lib/python3.13/site-packages (from brax) (11.3.0)\n",
      "Requirement already satisfied: scipy in /Users/binhpham/miniconda3/envs/mujoco-tut/lib/python3.13/site-packages (from brax) (1.16.0)\n",
      "Collecting tensorboardx (from brax)\n",
      "  Downloading tensorboardx-2.6.4-py3-none-any.whl.metadata (6.2 kB)\n",
      "Requirement already satisfied: trimesh in /Users/binhpham/miniconda3/envs/mujoco-tut/lib/python3.13/site-packages (from brax) (4.7.1)\n",
      "Requirement already satisfied: typing-extensions in /Users/binhpham/miniconda3/envs/mujoco-tut/lib/python3.13/site-packages (from brax) (4.14.1)\n",
      "Requirement already satisfied: ml_dtypes>=0.5.0 in /Users/binhpham/miniconda3/envs/mujoco-tut/lib/python3.13/site-packages (from jax>=0.4.6->brax) (0.5.3)\n",
      "Requirement already satisfied: opt_einsum in /Users/binhpham/miniconda3/envs/mujoco-tut/lib/python3.13/site-packages (from jax>=0.4.6->brax) (3.4.0)\n",
      "Collecting blinker>=1.9.0 (from flask->brax)\n",
      "  Using cached blinker-1.9.0-py3-none-any.whl.metadata (1.6 kB)\n",
      "Collecting click>=8.1.3 (from flask->brax)\n",
      "  Using cached click-8.2.1-py3-none-any.whl.metadata (2.5 kB)\n",
      "Collecting itsdangerous>=2.2.0 (from flask->brax)\n",
      "  Using cached itsdangerous-2.2.0-py3-none-any.whl.metadata (1.9 kB)\n",
      "Requirement already satisfied: markupsafe>=2.1.1 in /Users/binhpham/miniconda3/envs/mujoco-tut/lib/python3.13/site-packages (from flask->brax) (3.0.2)\n",
      "Collecting werkzeug>=3.1.0 (from flask->brax)\n",
      "  Using cached werkzeug-3.1.3-py3-none-any.whl.metadata (3.7 kB)\n",
      "Collecting msgpack (from flax->brax)\n",
      "  Downloading msgpack-1.1.1-cp313-cp313-macosx_11_0_arm64.whl.metadata (8.4 kB)\n",
      "Collecting tensorstore (from flax->brax)\n",
      "  Downloading tensorstore-0.1.76-cp313-cp313-macosx_11_0_arm64.whl.metadata (21 kB)\n",
      "Collecting rich>=11.1 (from flax->brax)\n",
      "  Downloading rich-14.1.0-py3-none-any.whl.metadata (18 kB)\n",
      "Requirement already satisfied: PyYAML>=5.4.1 in /Users/binhpham/miniconda3/envs/mujoco-tut/lib/python3.13/site-packages (from flax->brax) (6.0.2)\n",
      "Collecting treescope>=0.1.7 (from flax->brax)\n",
      "  Downloading treescope-0.1.9-py3-none-any.whl.metadata (6.6 kB)\n",
      "Collecting markdown-it-py>=2.2.0 (from rich>=11.1->flax->brax)\n",
      "  Using cached markdown_it_py-3.0.0-py3-none-any.whl.metadata (6.9 kB)\n",
      "Requirement already satisfied: pygments<3.0.0,>=2.13.0 in /Users/binhpham/miniconda3/envs/mujoco-tut/lib/python3.13/site-packages (from rich>=11.1->flax->brax) (2.19.1)\n",
      "Collecting mdurl~=0.1 (from markdown-it-py>=2.2.0->rich>=11.1->flax->brax)\n",
      "  Using cached mdurl-0.1.2-py3-none-any.whl.metadata (1.6 kB)\n",
      "Requirement already satisfied: glfw in /Users/binhpham/miniconda3/envs/mujoco-tut/lib/python3.13/site-packages (from mujoco->brax) (2.9.0)\n",
      "Requirement already satisfied: pyopengl in /Users/binhpham/miniconda3/envs/mujoco-tut/lib/python3.13/site-packages (from mujoco->brax) (3.1.9)\n",
      "Requirement already satisfied: fsspec in /Users/binhpham/miniconda3/envs/mujoco-tut/lib/python3.13/site-packages (from etils[epath]->mujoco->brax) (2025.5.1)\n",
      "Requirement already satisfied: importlib_resources in /Users/binhpham/miniconda3/envs/mujoco-tut/lib/python3.13/site-packages (from etils[epath]->mujoco->brax) (6.5.2)\n",
      "Requirement already satisfied: zipp in /Users/binhpham/miniconda3/envs/mujoco-tut/lib/python3.13/site-packages (from etils[epath]->mujoco->brax) (3.23.0)\n",
      "Collecting chex>=0.1.87 (from optax->brax)\n",
      "  Downloading chex-0.1.90-py3-none-any.whl.metadata (18 kB)\n",
      "Requirement already satisfied: setuptools in /Users/binhpham/miniconda3/envs/mujoco-tut/lib/python3.13/site-packages (from chex>=0.1.87->optax->brax) (78.1.1)\n",
      "Collecting toolz>=0.9.0 (from chex>=0.1.87->optax->brax)\n",
      "  Downloading toolz-1.0.0-py3-none-any.whl.metadata (5.1 kB)\n",
      "Requirement already satisfied: nest_asyncio in /Users/binhpham/miniconda3/envs/mujoco-tut/lib/python3.13/site-packages (from orbax-checkpoint->brax) (1.6.0)\n",
      "Collecting aiofiles (from orbax-checkpoint->brax)\n",
      "  Using cached aiofiles-24.1.0-py3-none-any.whl.metadata (10 kB)\n",
      "Collecting protobuf (from orbax-checkpoint->brax)\n",
      "  Using cached protobuf-6.31.1-cp39-abi3-macosx_10_9_universal2.whl.metadata (593 bytes)\n",
      "Collecting humanize (from orbax-checkpoint->brax)\n",
      "  Downloading humanize-4.12.3-py3-none-any.whl.metadata (7.8 kB)\n",
      "Collecting simplejson>=3.16.0 (from orbax-checkpoint->brax)\n",
      "  Downloading simplejson-3.20.1-cp313-cp313-macosx_11_0_arm64.whl.metadata (3.3 kB)\n",
      "Requirement already satisfied: packaging in /Users/binhpham/miniconda3/envs/mujoco-tut/lib/python3.13/site-packages (from tensorboardx->brax) (25.0)\n",
      "Downloading brax-0.12.4-py3-none-any.whl (341 kB)\n",
      "Using cached flask-3.1.1-py3-none-any.whl (103 kB)\n",
      "Using cached blinker-1.9.0-py3-none-any.whl (8.5 kB)\n",
      "Using cached click-8.2.1-py3-none-any.whl (102 kB)\n",
      "Using cached itsdangerous-2.2.0-py3-none-any.whl (16 kB)\n",
      "Using cached werkzeug-3.1.3-py3-none-any.whl (224 kB)\n",
      "Downloading flask_cors-6.0.1-py3-none-any.whl (13 kB)\n",
      "Downloading flax-0.11.0-py3-none-any.whl (455 kB)\n",
      "Downloading rich-14.1.0-py3-none-any.whl (243 kB)\n",
      "Using cached markdown_it_py-3.0.0-py3-none-any.whl (87 kB)\n",
      "Using cached mdurl-0.1.2-py3-none-any.whl (10.0 kB)\n",
      "Downloading treescope-0.1.9-py3-none-any.whl (182 kB)\n",
      "Downloading jaxopt-0.8.5-py3-none-any.whl (172 kB)\n",
      "Downloading ml_collections-1.1.0-py3-none-any.whl (76 kB)\n",
      "Downloading msgpack-1.1.1-cp313-cp313-macosx_11_0_arm64.whl (78 kB)\n",
      "Downloading optax-0.2.5-py3-none-any.whl (354 kB)\n",
      "Downloading chex-0.1.90-py3-none-any.whl (101 kB)\n",
      "Downloading toolz-1.0.0-py3-none-any.whl (56 kB)\n",
      "Downloading orbax_checkpoint-0.11.20-py3-none-any.whl (510 kB)\n",
      "Downloading simplejson-3.20.1-cp313-cp313-macosx_11_0_arm64.whl (75 kB)\n",
      "Downloading tensorstore-0.1.76-cp313-cp313-macosx_11_0_arm64.whl (13.6 MB)\n",
      "\u001b[2K   \u001b[38;2;114;156;31m━━━━━━━━━━━━━━━━━━━━━━━━━━━━━━━━━━━━━━━━\u001b[0m \u001b[32m13.6/13.6 MB\u001b[0m \u001b[31m15.4 MB/s\u001b[0m eta \u001b[36m0:00:00\u001b[0m[36m0:00:01\u001b[0m[36m0:00:01\u001b[0m\n",
      "\u001b[?25hUsing cached aiofiles-24.1.0-py3-none-any.whl (15 kB)\n",
      "Downloading humanize-4.12.3-py3-none-any.whl (128 kB)\n",
      "Using cached protobuf-6.31.1-cp39-abi3-macosx_10_9_universal2.whl (425 kB)\n",
      "Downloading tensorboardx-2.6.4-py3-none-any.whl (87 kB)\n",
      "Installing collected packages: werkzeug, treescope, toolz, simplejson, protobuf, msgpack, ml-collections, mdurl, itsdangerous, humanize, click, blinker, aiofiles, tensorstore, tensorboardx, markdown-it-py, flask, rich, flask-cors, orbax-checkpoint, jaxopt, chex, optax, flax, brax\n",
      "\u001b[2K   \u001b[38;2;114;156;31m━━━━━━━━━━━━━━━━━━━━━━━━━━━━━━━━━━━━━━━━\u001b[0m \u001b[32m25/25\u001b[0m [brax]8;5;237m━━━\u001b[0m \u001b[32m23/25\u001b[0m [flax]oint]e]\n",
      "\u001b[1A\u001b[2KSuccessfully installed aiofiles-24.1.0 blinker-1.9.0 brax-0.12.4 chex-0.1.90 click-8.2.1 flask-3.1.1 flask-cors-6.0.1 flax-0.11.0 humanize-4.12.3 itsdangerous-2.2.0 jaxopt-0.8.5 markdown-it-py-3.0.0 mdurl-0.1.2 ml-collections-1.1.0 msgpack-1.1.1 optax-0.2.5 orbax-checkpoint-0.11.20 protobuf-6.31.1 rich-14.1.0 simplejson-3.20.1 tensorboardx-2.6.4 tensorstore-0.1.76 toolz-1.0.0 treescope-0.1.9 werkzeug-3.1.3\n"
     ]
    }
   ],
   "source": [
    "!pip install mujoco\n",
    "!pip install mujoco_mjx\n",
    "!pip install brax"
   ]
  },
  {
   "cell_type": "markdown",
   "id": "d19aaf00",
   "metadata": {},
   "source": [
    "## Import packages for plotting and creating graphics"
   ]
  },
  {
   "cell_type": "code",
   "execution_count": 20,
   "id": "697428ff",
   "metadata": {},
   "outputs": [
    {
     "name": "stdout",
     "output_type": "stream",
     "text": [
      "Installing mediapy:\n"
     ]
    },
    {
     "name": "stderr",
     "output_type": "stream",
     "text": [
      "/Users/binhpham/miniconda3/envs/mujoco-tut/lib/python3.13/pty.py:95: RuntimeWarning: os.fork() was called. os.fork() is incompatible with multithreaded code, and JAX is multithreaded, so this will likely lead to a deadlock.\n",
      "  pid, fd = os.forkpty()\n"
     ]
    }
   ],
   "source": [
    "import time\n",
    "import itertools\n",
    "import numpy as np\n",
    "from typing import Callable, NamedTuple, Optional, Union, List\n",
    "\n",
    "# Graphics and plotting.\n",
    "print('Installing mediapy:')\n",
    "!command -v ffmpeg >/dev/null || (apt update && apt install -y ffmpeg)\n",
    "!pip install -q mediapy\n",
    "import mediapy as media\n",
    "import matplotlib.pyplot as plt\n",
    "\n",
    "# More legible printing from numpy.\n",
    "np.set_printoptions(precision=3, suppress=True, linewidth=100)"
   ]
  },
  {
   "cell_type": "markdown",
   "id": "0ea7f4dd",
   "metadata": {},
   "source": [
    "## Import Mujoco, MJX, and Brax"
   ]
  },
  {
   "cell_type": "code",
   "execution_count": 21,
   "id": "98b72959",
   "metadata": {},
   "outputs": [],
   "source": [
    "from datetime import datetime\n",
    "from etils import epath\n",
    "import functools\n",
    "from IPython.display import HTML\n",
    "from typing import Any, Dict, Sequence, Tuple, Union\n",
    "import os\n",
    "from ml_collections import config_dict\n",
    "\n",
    "\n",
    "import jax\n",
    "from jax import numpy as jp\n",
    "import numpy as np\n",
    "from flax.training import orbax_utils\n",
    "from flax import struct\n",
    "from matplotlib import pyplot as plt\n",
    "import mediapy as media\n",
    "from orbax import checkpoint as ocp\n",
    "\n",
    "import mujoco\n",
    "from mujoco import mjx\n",
    "\n",
    "from brax import base\n",
    "from brax import envs\n",
    "from brax import math\n",
    "from brax.base import Base, Motion, Transform\n",
    "from brax.base import State as PipelineState\n",
    "from brax.envs.base import Env, PipelineEnv, State\n",
    "from brax.mjx.base import State as MjxState\n",
    "from brax.training.agents.ppo import train as ppo\n",
    "from brax.training.agents.ppo import networks as ppo_networks\n",
    "from brax.io import html, mjcf, model\n"
   ]
  },
  {
   "cell_type": "markdown",
   "id": "62e85562",
   "metadata": {},
   "source": [
    "# LeLamp Model"
   ]
  },
  {
   "cell_type": "markdown",
   "id": "3858cde3",
   "metadata": {},
   "source": [
    "Import LeLamp Mujoco Model"
   ]
  },
  {
   "cell_type": "code",
   "execution_count": 23,
   "id": "c6aefa2a",
   "metadata": {},
   "outputs": [
    {
     "data": {
      "text/plain": [
       "6"
      ]
     },
     "execution_count": 23,
     "metadata": {},
     "output_type": "execute_result"
    }
   ],
   "source": [
    "mj_model = mujoco.MjModel.from_xml_path('../models/lelamp/scene.xml')\n",
    "\n",
    "# See number of joints in the model\n",
    "mj_model.njnt"
   ]
  },
  {
   "cell_type": "code",
   "execution_count": 24,
   "id": "469491c2",
   "metadata": {},
   "outputs": [
    {
     "data": {
      "text/plain": [
       "(array([0., 0., 0., 1., 0., 0., 0., 0., 0., 0., 0., 0.]),\n",
       " array([0., 0., 0., 0., 0., 0., 0., 0., 0., 0., 0.]),\n",
       " array([0., 0., 0., 0., 0., 0.]))"
      ]
     },
     "execution_count": 24,
     "metadata": {},
     "output_type": "execute_result"
    }
   ],
   "source": [
    "mj_data = mujoco.MjData(mj_model)\n",
    "\n",
    "# See qpos and qvel\n",
    "mj_data.qpos, mj_data.qvel, mj_data.sensordata"
   ]
  },
  {
   "cell_type": "code",
   "execution_count": 8,
   "id": "f20e2182",
   "metadata": {},
   "outputs": [
    {
     "data": {
      "text/plain": [
       "array([0., 0., 0.])"
      ]
     },
     "execution_count": 8,
     "metadata": {},
     "output_type": "execute_result"
    }
   ],
   "source": [
    "mj_data.subtree_com[1]"
   ]
  },
  {
   "cell_type": "code",
   "execution_count": 9,
   "id": "4fcb4038",
   "metadata": {},
   "outputs": [],
   "source": [
    "renderer = mujoco.Renderer(mj_model)"
   ]
  },
  {
   "cell_type": "code",
   "execution_count": 10,
   "id": "0b7ca1df",
   "metadata": {},
   "outputs": [
    {
     "name": "stderr",
     "output_type": "stream",
     "text": [
      "/Users/binhpham/miniconda3/envs/mujoco-tut/lib/python3.13/site-packages/mujoco/mjx/_src/mesh.py:141: UserWarning: Mesh \"base\" has a coplanar face with more than 20 vertices. This may lead to performance issues and inaccuracies in collision detection. Consider decimating the mesh.\n",
      "  warnings.warn(\n",
      "/Users/binhpham/miniconda3/envs/mujoco-tut/lib/python3.13/site-packages/mujoco/mjx/_src/mesh.py:141: UserWarning: Mesh \"bts2_m2_6x8\" has a coplanar face with more than 20 vertices. This may lead to performance issues and inaccuracies in collision detection. Consider decimating the mesh.\n",
      "  warnings.warn(\n",
      "/Users/binhpham/miniconda3/envs/mujoco-tut/lib/python3.13/site-packages/mujoco/mjx/_src/mesh.py:141: UserWarning: Mesh \"dc15_a01_case_m_dummy\" has a coplanar face with more than 20 vertices. This may lead to performance issues and inaccuracies in collision detection. Consider decimating the mesh.\n",
      "  warnings.warn(\n",
      "/Users/binhpham/miniconda3/envs/mujoco-tut/lib/python3.13/site-packages/mujoco/mjx/_src/mesh.py:141: UserWarning: Mesh \"dc15_a01_horn_dummy\" has a coplanar face with more than 20 vertices. This may lead to performance issues and inaccuracies in collision detection. Consider decimating the mesh.\n",
      "  warnings.warn(\n",
      "/Users/binhpham/miniconda3/envs/mujoco-tut/lib/python3.13/site-packages/mujoco/mjx/_src/mesh.py:141: UserWarning: Mesh \"dc15_a01_horn_idle2_dummy\" has a coplanar face with more than 20 vertices. This may lead to performance issues and inaccuracies in collision detection. Consider decimating the mesh.\n",
      "  warnings.warn(\n",
      "/Users/binhpham/miniconda3/envs/mujoco-tut/lib/python3.13/site-packages/mujoco/mjx/_src/mesh.py:141: UserWarning: Mesh \"dc15_a01_idle_cap_dummy\" has a coplanar face with more than 20 vertices. This may lead to performance issues and inaccuracies in collision detection. Consider decimating the mesh.\n",
      "  warnings.warn(\n",
      "/Users/binhpham/miniconda3/envs/mujoco-tut/lib/python3.13/site-packages/mujoco/mjx/_src/mesh.py:141: UserWarning: Mesh \"arm_length_15cm\" has a coplanar face with more than 20 vertices. This may lead to performance issues and inaccuracies in collision detection. Consider decimating the mesh.\n",
      "  warnings.warn(\n",
      "/Users/binhpham/miniconda3/envs/mujoco-tut/lib/python3.13/site-packages/mujoco/mjx/_src/mesh.py:141: UserWarning: Mesh \"arm_length_10cm\" has a coplanar face with more than 20 vertices. This may lead to performance issues and inaccuracies in collision detection. Consider decimating the mesh.\n",
      "  warnings.warn(\n",
      "/Users/binhpham/miniconda3/envs/mujoco-tut/lib/python3.13/site-packages/mujoco/mjx/_src/mesh.py:141: UserWarning: Mesh \"angle_joint\" has a coplanar face with more than 20 vertices. This may lead to performance issues and inaccuracies in collision detection. Consider decimating the mesh.\n",
      "  warnings.warn(\n"
     ]
    },
    {
     "name": "stdout",
     "output_type": "stream",
     "text": [
      "[0. 0. 0. 1. 0. 0. 0. 0. 0. 0. 0. 0.] <class 'numpy.ndarray'>\n",
      "[0. 0. 0. 1. 0. 0. 0. 0. 0. 0. 0. 0.] <class 'jaxlib._jax.ArrayImpl'> {CpuDevice(id=0)}\n"
     ]
    },
    {
     "name": "stderr",
     "output_type": "stream",
     "text": [
      "/Users/binhpham/miniconda3/envs/mujoco-tut/lib/python3.13/site-packages/mujoco/mjx/_src/mesh.py:141: UserWarning: Mesh \"lamp_head\" has a coplanar face with more than 20 vertices. This may lead to performance issues and inaccuracies in collision detection. Consider decimating the mesh.\n",
      "  warnings.warn(\n"
     ]
    }
   ],
   "source": [
    "mjx_model = mjx.put_model(mj_model)\n",
    "mjx_data = mjx.put_data(mj_model, mj_data)\n",
    "\n",
    "print(mj_data.qpos, type(mj_data.qpos))\n",
    "print(mjx_data.qpos, type(mjx_data.qpos), mjx_data.qpos.devices())"
   ]
  },
  {
   "cell_type": "markdown",
   "id": "e975d116",
   "metadata": {},
   "source": [
    "## Test Model Control"
   ]
  },
  {
   "cell_type": "code",
   "execution_count": 17,
   "id": "216f0f42",
   "metadata": {},
   "outputs": [
    {
     "data": {
      "text/plain": [
       "1"
      ]
     },
     "execution_count": 17,
     "metadata": {},
     "output_type": "execute_result"
    }
   ],
   "source": [
    "mujoco.mj_name2id(mj_model, mujoco.mjtObj.mjOBJ_BODY, \"dc15_a01_dummy_assy_idle_asm\")"
   ]
  },
  {
   "cell_type": "code",
   "execution_count": null,
   "id": "20b1a1d3",
   "metadata": {},
   "outputs": [
    {
     "data": {
      "text/html": [
       "<table class=\"show_videos\" style=\"border-spacing:0px;\"><tr><td style=\"padding:1px;\"><video controls width=\"320\" height=\"240\" style=\"object-fit:cover;\" loop autoplay muted>\n",
       "      <source src=\"data:video/mp4;base64,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\" type=\"video/mp4\"/>\n",
       "      This browser does not support the video tag.\n",
       "      </video></td></tr></table>"
      ],
      "text/plain": [
       "<IPython.core.display.HTML object>"
      ]
     },
     "metadata": {},
     "output_type": "display_data"
    }
   ],
   "source": [
    "import numpy as np\n",
    "\n",
    "# Your scene_option and simulation setup as before...\n",
    "scene_option = mujoco.MjvOption()\n",
    "scene_option.flags[mujoco.mjtVisFlag.mjVIS_JOINT] = True\n",
    "\n",
    "duration = 3.8  # seconds\n",
    "framerate = 60  # Hz\n",
    "\n",
    "frames = []\n",
    "mujoco.mj_resetData(mj_model, mj_data)\n",
    "\n",
    "com = []\n",
    "\n",
    "while mj_data.time < duration:\n",
    "    t = mj_data.time\n",
    "\n",
    "    # Control input for all 12 actuators\n",
    "    ctrl = np.zeros(5)\n",
    "\n",
    "    # Example: oscillate the last 5 position actuators with different frequencies\n",
    "    for i in range(5):\n",
    "        ctrl[i] = 0.5 * np.sin(2 * np.pi * (i - 6) * t)  # small amplitude sine\n",
    "\n",
    "    mj_data.ctrl[:] = ctrl\n",
    "\n",
    "    mujoco.mj_step(mj_model, mj_data)\n",
    "\n",
    "    # Record the center of mass position\n",
    "    # com.append(mj_data.subtree_com[\"dc15_a01_dummy_assy_idle_asm\"].copy())\n",
    "\n",
    "    if len(frames) < mj_data.time * framerate:\n",
    "        renderer.update_scene(mj_data, scene_option=scene_option)\n",
    "        pixels = renderer.render()\n",
    "        frames.append(pixels)\n",
    "\n",
    "media.show_video(frames, fps=framerate)\n"
   ]
  },
  {
   "cell_type": "code",
   "execution_count": 31,
   "id": "4e1974da",
   "metadata": {},
   "outputs": [],
   "source": [
    "# RL Environment\n",
    "\n",
    "MODEL_PATH = '../models/lelamp/scene.xml'"
   ]
  },
  {
   "cell_type": "code",
   "execution_count": 36,
   "id": "328f42c3",
   "metadata": {},
   "outputs": [],
   "source": [
    "class LeLampEnv(PipelineEnv):\n",
    "    \"\"\"LeLamp environment.\"\"\"\n",
    "\n",
    "\n",
    "    def __init__(\n",
    "        self,\n",
    "        forward_reward_weight=1.25,\n",
    "        healthy_reward=5.0,\n",
    "        terminate_when_unhealthy=True,\n",
    "        healthy_z_range=(1.0, 2.0),\n",
    "        reset_noise_scale=1e-2,\n",
    "        **kwargs,\n",
    "    ):\n",
    "        # Initialize the environment with the given parameters.\n",
    "        mj_model = mujoco.MjModel.from_xml_path(MODEL_PATH)\n",
    "        mj_model.opt.solver = mujoco.mjtSolver.mjSOL_CG\n",
    "        mj_model.opt.iterations = 6\n",
    "        mj_model.opt.ls_iterations = 6\n",
    "\n",
    "        sys = mjcf.load_model(mj_model)\n",
    "        self.sys = sys\n",
    "\n",
    "        physics_steps_per_control_step = 5\n",
    "        kwargs['n_frames'] = kwargs.get('n_frames', physics_steps_per_control_step)\n",
    "        kwargs['backend'] = 'mjx'\n",
    "\n",
    "        super().__init__(sys, **kwargs)\n",
    "\n",
    "        # Set up the pipeline for the environment.\n",
    "        self._forward_reward_weight = forward_reward_weight\n",
    "        self._healthy_reward = healthy_reward\n",
    "        self._terminate_when_unhealthy = terminate_when_unhealthy\n",
    "        self._healthy_z_range = healthy_z_range\n",
    "        self._reset_noise_scale = reset_noise_scale\n",
    "\n",
    "    def reset(self, rng: jp.ndarray) -> State:\n",
    "        \"\"\"Resets the environment to an initial state.\"\"\"\n",
    "        rng, rng1, rng2 = jax.random.split(rng, 3)\n",
    "\n",
    "        low, hi = -self._reset_noise_scale, self._reset_noise_scale\n",
    "\n",
    "        # Generalized q pos\n",
    "        qpos = self.sys.qpos0 + jax.random.uniform(\n",
    "            rng1, (self.sys.nq,), minval=low, maxval=hi\n",
    "        )\n",
    "\n",
    "        # Generalized q vel\n",
    "        qvel = jax.random.uniform(\n",
    "            rng2, (self.sys.nv,), minval=low, maxval=hi\n",
    "        )\n",
    "\n",
    "        # Init brax pipeline state\n",
    "        data = self.pipeline_init(qpos, qvel)\n",
    "\n",
    "        # Get the initial observation\n",
    "        obs = self._get_obs(data, jp.zeros(self.sys.nu))\n",
    "\n",
    "        # Initialize reward, done, and metrics\n",
    "        reward, done, zero = jp.zeros(3)\n",
    "        metrics = {\n",
    "            'forward_reward': zero,\n",
    "            'reward_linvel': zero,\n",
    "            'reward_alive': zero,\n",
    "            'x_position': zero,\n",
    "            'y_position': zero,\n",
    "            'distance_from_origin': zero,\n",
    "            'x_velocity': zero,\n",
    "            'y_velocity': zero,\n",
    "        }\n",
    "        return State(data, obs, reward, done, metrics)\n",
    "    \n",
    "    def step(self, state: State, action: jp.ndarray) -> State:\n",
    "        \"\"\"Steps the environment forward by one timestep.\"\"\"\n",
    "        data0 = state.pipeline_state\n",
    "        data = self.pipeline_step(data0, action)\n",
    "\n",
    "        # Forward reward\n",
    "        com_before = data0.subtree_com['dc15_a01_dummy_assy_idle_asm']\n",
    "        com_after = data.subtree_com['dc15_a01_dummy_assy_idle_asm']\n",
    "        velocity = (com_after - com_before) / self.dt\n",
    "        forward_reward = self._forward_reward_weight * velocity[0]\n",
    "\n",
    "        # Healthy reward\n",
    "        lamp_head_id = self.sys.body.index['lamp_head']\n",
    "        lamp_head_pos = data.xpos[lamp_head_id]\n",
    "\n",
    "        min_z, max_z = self._healthy_z_range\n",
    "        is_healthy = jp.where(lamp_head_pos[2] < min_z, 0.0, 1.0)\n",
    "        is_healthy = jp.where(lamp_head_pos[2] > max_z, 0.0, is_healthy)\n",
    "        healthy_reward = self._healthy_reward * is_healthy\n",
    "\n",
    "        obs = self._get_obs(data, action)\n",
    "\n",
    "        # Calculate the reward\n",
    "        reward = forward_reward + healthy_reward\n",
    "        done = 0.0\n",
    "\n",
    "        state.metrics.update({\n",
    "            'forward_reward': forward_reward,\n",
    "            'reward_linvel': forward_reward,\n",
    "            'reward_alive': healthy_reward,\n",
    "            'x_position': com_after[0],\n",
    "            'y_position': com_after[1],\n",
    "            'distance_from_origin': jp.linalg.norm(com_after),\n",
    "            'x_velocity': velocity[0],\n",
    "            'y_velocity': velocity[1],\n",
    "        })\n",
    "\n",
    "        return state.replace(\n",
    "            pipeline_state=data,\n",
    "            obs=obs,\n",
    "            reward=reward,\n",
    "            done=done,\n",
    "        )\n",
    "\n",
    "    def _get_obs(\n",
    "        self, data: mjx.Data, action: jp.ndarray\n",
    "    ) -> jp.ndarray:\n",
    "        # Get the current position\n",
    "        position = data.qpos[7:]\n",
    "\n",
    "        # Get joint velocities\n",
    "        velocities = data.qvel[6:]\n",
    "\n",
    "        # Get sensor data\n",
    "        sensor_data = data.sensordata[:6]\n",
    "\n",
    "        return jp.concatenate([position, velocities, sensor_data])\n",
    "\n",
    "envs.register_environment('lelamp', LeLampEnv)"
   ]
  },
  {
   "cell_type": "code",
   "execution_count": 37,
   "id": "88082951",
   "metadata": {},
   "outputs": [
    {
     "name": "stderr",
     "output_type": "stream",
     "text": [
      "/Users/binhpham/miniconda3/envs/mujoco-tut/lib/python3.13/site-packages/mujoco/mjx/_src/mesh.py:141: UserWarning: Mesh \"base\" has a coplanar face with more than 20 vertices. This may lead to performance issues and inaccuracies in collision detection. Consider decimating the mesh.\n",
      "  warnings.warn(\n",
      "/Users/binhpham/miniconda3/envs/mujoco-tut/lib/python3.13/site-packages/mujoco/mjx/_src/mesh.py:141: UserWarning: Mesh \"bts2_m2_6x8\" has a coplanar face with more than 20 vertices. This may lead to performance issues and inaccuracies in collision detection. Consider decimating the mesh.\n",
      "  warnings.warn(\n",
      "/Users/binhpham/miniconda3/envs/mujoco-tut/lib/python3.13/site-packages/mujoco/mjx/_src/mesh.py:141: UserWarning: Mesh \"dc15_a01_case_m_dummy\" has a coplanar face with more than 20 vertices. This may lead to performance issues and inaccuracies in collision detection. Consider decimating the mesh.\n",
      "  warnings.warn(\n",
      "/Users/binhpham/miniconda3/envs/mujoco-tut/lib/python3.13/site-packages/mujoco/mjx/_src/mesh.py:141: UserWarning: Mesh \"dc15_a01_horn_dummy\" has a coplanar face with more than 20 vertices. This may lead to performance issues and inaccuracies in collision detection. Consider decimating the mesh.\n",
      "  warnings.warn(\n",
      "/Users/binhpham/miniconda3/envs/mujoco-tut/lib/python3.13/site-packages/mujoco/mjx/_src/mesh.py:141: UserWarning: Mesh \"dc15_a01_horn_idle2_dummy\" has a coplanar face with more than 20 vertices. This may lead to performance issues and inaccuracies in collision detection. Consider decimating the mesh.\n",
      "  warnings.warn(\n",
      "/Users/binhpham/miniconda3/envs/mujoco-tut/lib/python3.13/site-packages/mujoco/mjx/_src/mesh.py:141: UserWarning: Mesh \"dc15_a01_idle_cap_dummy\" has a coplanar face with more than 20 vertices. This may lead to performance issues and inaccuracies in collision detection. Consider decimating the mesh.\n",
      "  warnings.warn(\n",
      "/Users/binhpham/miniconda3/envs/mujoco-tut/lib/python3.13/site-packages/mujoco/mjx/_src/mesh.py:141: UserWarning: Mesh \"arm_length_15cm\" has a coplanar face with more than 20 vertices. This may lead to performance issues and inaccuracies in collision detection. Consider decimating the mesh.\n",
      "  warnings.warn(\n",
      "/Users/binhpham/miniconda3/envs/mujoco-tut/lib/python3.13/site-packages/mujoco/mjx/_src/mesh.py:141: UserWarning: Mesh \"arm_length_10cm\" has a coplanar face with more than 20 vertices. This may lead to performance issues and inaccuracies in collision detection. Consider decimating the mesh.\n",
      "  warnings.warn(\n",
      "/Users/binhpham/miniconda3/envs/mujoco-tut/lib/python3.13/site-packages/mujoco/mjx/_src/mesh.py:141: UserWarning: Mesh \"angle_joint\" has a coplanar face with more than 20 vertices. This may lead to performance issues and inaccuracies in collision detection. Consider decimating the mesh.\n",
      "  warnings.warn(\n",
      "/Users/binhpham/miniconda3/envs/mujoco-tut/lib/python3.13/site-packages/mujoco/mjx/_src/mesh.py:141: UserWarning: Mesh \"lamp_head\" has a coplanar face with more than 20 vertices. This may lead to performance issues and inaccuracies in collision detection. Consider decimating the mesh.\n",
      "  warnings.warn(\n",
      "/Users/binhpham/miniconda3/envs/mujoco-tut/lib/python3.13/site-packages/brax/io/mjcf.py:480: UserWarning: Brax System, piplines and environments are not actively being maintained. Please see MJX for a well maintained JAX-based physics engine: https://github.com/google-deepmind/mujoco/tree/main/mjx. For a host of environments that use MJX, see: https://github.com/google-deepmind/mujoco_playground.\n",
      "  warnings.warn(\n"
     ]
    }
   ],
   "source": [
    "# instantiate the environment\n",
    "env_name = 'lelamp'\n",
    "env = envs.get_environment(env_name)\n",
    "\n",
    "# define the jit reset/step functions\n",
    "jit_reset = jax.jit(env.reset)\n",
    "jit_step = jax.jit(env.step)"
   ]
  },
  {
   "cell_type": "code",
   "execution_count": null,
   "id": "758fdec5",
   "metadata": {},
   "outputs": [
    {
     "name": "stderr",
     "output_type": "stream",
     "text": [
      "/Users/binhpham/miniconda3/envs/mujoco-tut/lib/python3.13/site-packages/jax/_src/interpreters/xla.py:119: RuntimeWarning: overflow encountered in cast\n",
      "  return np.asarray(x, dtypes.canonicalize_dtype(x.dtype))\n",
      "Exception ignored in: <bound method IPythonKernel._clean_thread_parent_frames of <ipykernel.ipkernel.IPythonKernel object at 0x1103642f0>>\n",
      "Traceback (most recent call last):\n",
      "  File \"/Users/binhpham/miniconda3/envs/mujoco-tut/lib/python3.13/site-packages/ipykernel/ipkernel.py\", line 775, in _clean_thread_parent_frames\n",
      "    def _clean_thread_parent_frames(\n",
      "KeyboardInterrupt: \n"
     ]
    }
   ],
   "source": [
    "import time\n",
    "\n",
    "start = time.time()\n",
    "\n",
    "state = jit_reset(jax.random.PRNGKey(0))\n",
    "rollout = [state.pipeline_state]\n",
    "\n",
    "for i in range(10):\n",
    "    ctrl = -0.1 * jp.ones(env.sys.nu)\n",
    "    state = jit_step(state, ctrl)\n",
    "    rollout.append(state.pipeline_state)\n",
    "    print(f\"Step {i+1} done, elapsed: {time.time() - start:.2f} sec\")\n",
    "\n",
    "print(\"Rollout finished in\", time.time() - start, \"seconds\")\n"
   ]
  }
 ],
 "metadata": {
  "kernelspec": {
   "display_name": "mujoco-tut",
   "language": "python",
   "name": "python3"
  },
  "language_info": {
   "codemirror_mode": {
    "name": "ipython",
    "version": 3
   },
   "file_extension": ".py",
   "mimetype": "text/x-python",
   "name": "python",
   "nbconvert_exporter": "python",
   "pygments_lexer": "ipython3",
   "version": "3.13.5"
  }
 },
 "nbformat": 4,
 "nbformat_minor": 5
}
