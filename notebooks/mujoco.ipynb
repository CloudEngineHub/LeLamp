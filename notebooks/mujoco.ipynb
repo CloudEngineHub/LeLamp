{
 "cells": [
  {
   "cell_type": "markdown",
   "id": "8a5effd5",
   "metadata": {},
   "source": [
    "# Preparation"
   ]
  },
  {
   "cell_type": "markdown",
   "id": "1dc37e9d",
   "metadata": {},
   "source": [
    "## Install MuJoCo, MJX, and Brax"
   ]
  },
  {
   "cell_type": "code",
   "execution_count": 2,
   "id": "e9cd4ab9",
   "metadata": {},
   "outputs": [
    {
     "name": "stdout",
     "output_type": "stream",
     "text": [
      "Requirement already satisfied: mujoco in /home/binh/miniconda3/envs/lelamp/lib/python3.13/site-packages (3.3.4)\n",
      "Requirement already satisfied: absl-py in /home/binh/miniconda3/envs/lelamp/lib/python3.13/site-packages (from mujoco) (2.3.1)\n",
      "Requirement already satisfied: etils[epath] in /home/binh/miniconda3/envs/lelamp/lib/python3.13/site-packages (from mujoco) (1.13.0)\n",
      "Requirement already satisfied: glfw in /home/binh/miniconda3/envs/lelamp/lib/python3.13/site-packages (from mujoco) (2.9.0)\n",
      "Requirement already satisfied: numpy in /home/binh/miniconda3/envs/lelamp/lib/python3.13/site-packages (from mujoco) (2.3.2)\n",
      "Requirement already satisfied: pyopengl in /home/binh/miniconda3/envs/lelamp/lib/python3.13/site-packages (from mujoco) (3.1.9)\n",
      "Requirement already satisfied: fsspec in /home/binh/miniconda3/envs/lelamp/lib/python3.13/site-packages (from etils[epath]->mujoco) (2025.7.0)\n",
      "Requirement already satisfied: importlib_resources in /home/binh/miniconda3/envs/lelamp/lib/python3.13/site-packages (from etils[epath]->mujoco) (6.5.2)\n",
      "Requirement already satisfied: typing_extensions in /home/binh/miniconda3/envs/lelamp/lib/python3.13/site-packages (from etils[epath]->mujoco) (4.12.2)\n",
      "Requirement already satisfied: zipp in /home/binh/miniconda3/envs/lelamp/lib/python3.13/site-packages (from etils[epath]->mujoco) (3.23.0)\n",
      "Collecting mujoco_mjx\n",
      "  Downloading mujoco_mjx-3.3.4-py3-none-any.whl.metadata (3.4 kB)\n",
      "Requirement already satisfied: absl-py in /home/binh/miniconda3/envs/lelamp/lib/python3.13/site-packages (from mujoco_mjx) (2.3.1)\n",
      "Requirement already satisfied: etils[epath] in /home/binh/miniconda3/envs/lelamp/lib/python3.13/site-packages (from mujoco_mjx) (1.13.0)\n",
      "Collecting jax (from mujoco_mjx)\n",
      "  Downloading jax-0.7.0-py3-none-any.whl.metadata (13 kB)\n",
      "Collecting jaxlib (from mujoco_mjx)\n",
      "  Downloading jaxlib-0.7.0-cp313-cp313-manylinux2014_x86_64.whl.metadata (1.3 kB)\n",
      "Requirement already satisfied: mujoco>=3.3.4.dev0 in /home/binh/miniconda3/envs/lelamp/lib/python3.13/site-packages (from mujoco_mjx) (3.3.4)\n",
      "Collecting scipy (from mujoco_mjx)\n",
      "  Downloading scipy-1.16.1-cp313-cp313-manylinux2014_x86_64.manylinux_2_17_x86_64.whl.metadata (61 kB)\n",
      "Collecting trimesh (from mujoco_mjx)\n",
      "  Downloading trimesh-4.7.1-py3-none-any.whl.metadata (18 kB)\n",
      "Requirement already satisfied: glfw in /home/binh/miniconda3/envs/lelamp/lib/python3.13/site-packages (from mujoco>=3.3.4.dev0->mujoco_mjx) (2.9.0)\n",
      "Requirement already satisfied: numpy in /home/binh/miniconda3/envs/lelamp/lib/python3.13/site-packages (from mujoco>=3.3.4.dev0->mujoco_mjx) (2.3.2)\n",
      "Requirement already satisfied: pyopengl in /home/binh/miniconda3/envs/lelamp/lib/python3.13/site-packages (from mujoco>=3.3.4.dev0->mujoco_mjx) (3.1.9)\n",
      "Requirement already satisfied: fsspec in /home/binh/miniconda3/envs/lelamp/lib/python3.13/site-packages (from etils[epath]->mujoco_mjx) (2025.7.0)\n",
      "Requirement already satisfied: importlib_resources in /home/binh/miniconda3/envs/lelamp/lib/python3.13/site-packages (from etils[epath]->mujoco_mjx) (6.5.2)\n",
      "Requirement already satisfied: typing_extensions in /home/binh/miniconda3/envs/lelamp/lib/python3.13/site-packages (from etils[epath]->mujoco_mjx) (4.12.2)\n",
      "Requirement already satisfied: zipp in /home/binh/miniconda3/envs/lelamp/lib/python3.13/site-packages (from etils[epath]->mujoco_mjx) (3.23.0)\n",
      "Collecting ml_dtypes>=0.5.0 (from jax->mujoco_mjx)\n",
      "  Downloading ml_dtypes-0.5.3-cp313-cp313-manylinux_2_27_x86_64.manylinux_2_28_x86_64.whl.metadata (8.9 kB)\n",
      "Collecting opt_einsum (from jax->mujoco_mjx)\n",
      "  Using cached opt_einsum-3.4.0-py3-none-any.whl.metadata (6.3 kB)\n",
      "Downloading mujoco_mjx-3.3.4-py3-none-any.whl (6.7 MB)\n",
      "\u001b[2K   \u001b[90m━━━━━━━━━━━━━━━━━━━━━━━━━━━━━━━━━━━━━━━━\u001b[0m \u001b[32m6.7/6.7 MB\u001b[0m \u001b[31m30.1 MB/s\u001b[0m eta \u001b[36m0:00:00\u001b[0m00:01\u001b[0m\n",
      "\u001b[?25hDownloading jax-0.7.0-py3-none-any.whl (2.8 MB)\n",
      "\u001b[2K   \u001b[90m━━━━━━━━━━━━━━━━━━━━━━━━━━━━━━━━━━━━━━━━\u001b[0m \u001b[32m2.8/2.8 MB\u001b[0m \u001b[31m42.6 MB/s\u001b[0m eta \u001b[36m0:00:00\u001b[0m\n",
      "\u001b[?25hDownloading jaxlib-0.7.0-cp313-cp313-manylinux2014_x86_64.whl (93.1 MB)\n",
      "\u001b[2K   \u001b[90m━━━━━━━━━━━━━━━━━━━━━━━━━━━━━━━━━━━━━━━━\u001b[0m \u001b[32m93.1/93.1 MB\u001b[0m \u001b[31m66.7 MB/s\u001b[0m eta \u001b[36m0:00:00\u001b[0m:00:01\u001b[0m00:01\u001b[0m\n",
      "\u001b[?25hDownloading ml_dtypes-0.5.3-cp313-cp313-manylinux_2_27_x86_64.manylinux_2_28_x86_64.whl (4.9 MB)\n",
      "\u001b[2K   \u001b[90m━━━━━━━━━━━━━━━━━━━━━━━━━━━━━━━━━━━━━━━━\u001b[0m \u001b[32m4.9/4.9 MB\u001b[0m \u001b[31m38.9 MB/s\u001b[0m eta \u001b[36m0:00:00\u001b[0m\n",
      "\u001b[?25hDownloading scipy-1.16.1-cp313-cp313-manylinux2014_x86_64.manylinux_2_17_x86_64.whl (35.2 MB)\n",
      "\u001b[2K   \u001b[90m━━━━━━━━━━━━━━━━━━━━━━━━━━━━━━━━━━━━━━━━\u001b[0m \u001b[32m35.2/35.2 MB\u001b[0m \u001b[31m64.4 MB/s\u001b[0m eta \u001b[36m0:00:00\u001b[0m:00:01\u001b[0m00:01\u001b[0m\n",
      "\u001b[?25hUsing cached opt_einsum-3.4.0-py3-none-any.whl (71 kB)\n",
      "Downloading trimesh-4.7.1-py3-none-any.whl (709 kB)\n",
      "\u001b[2K   \u001b[90m━━━━━━━━━━━━━━━━━━━━━━━━━━━━━━━━━━━━━━━━\u001b[0m \u001b[32m709.0/709.0 kB\u001b[0m \u001b[31m11.5 MB/s\u001b[0m eta \u001b[36m0:00:00\u001b[0m\n",
      "\u001b[?25hInstalling collected packages: trimesh, scipy, opt_einsum, ml_dtypes, jaxlib, jax, mujoco_mjx\n",
      "\u001b[2K   \u001b[90m━━━━━━━━━━━━━━━━━━━━━━━━━━━━━━━━━━━━━━━━\u001b[0m \u001b[32m7/7\u001b[0m [mujoco_mjx]7\u001b[0m [mujoco_mjx]\n",
      "\u001b[1A\u001b[2KSuccessfully installed jax-0.7.0 jaxlib-0.7.0 ml_dtypes-0.5.3 mujoco_mjx-3.3.4 opt_einsum-3.4.0 scipy-1.16.1 trimesh-4.7.1\n",
      "Collecting brax\n",
      "  Downloading brax-0.12.4-py3-none-any.whl.metadata (20 kB)\n",
      "Requirement already satisfied: absl-py in /home/binh/miniconda3/envs/lelamp/lib/python3.13/site-packages (from brax) (2.3.1)\n",
      "Requirement already satisfied: etils in /home/binh/miniconda3/envs/lelamp/lib/python3.13/site-packages (from brax) (1.13.0)\n",
      "Collecting flask (from brax)\n",
      "  Using cached flask-3.1.1-py3-none-any.whl.metadata (3.0 kB)\n",
      "Collecting flask-cors (from brax)\n",
      "  Downloading flask_cors-6.0.1-py3-none-any.whl.metadata (5.3 kB)\n",
      "Collecting flax (from brax)\n",
      "  Downloading flax-0.11.0-py3-none-any.whl.metadata (11 kB)\n",
      "Requirement already satisfied: jax>=0.4.6 in /home/binh/miniconda3/envs/lelamp/lib/python3.13/site-packages (from brax) (0.7.0)\n",
      "Requirement already satisfied: jaxlib>=0.4.6 in /home/binh/miniconda3/envs/lelamp/lib/python3.13/site-packages (from brax) (0.7.0)\n",
      "Collecting jaxopt (from brax)\n",
      "  Downloading jaxopt-0.8.5-py3-none-any.whl.metadata (3.3 kB)\n",
      "Requirement already satisfied: jinja2 in /home/binh/miniconda3/envs/lelamp/lib/python3.13/site-packages (from brax) (3.1.6)\n",
      "Collecting ml-collections (from brax)\n",
      "  Downloading ml_collections-1.1.0-py3-none-any.whl.metadata (22 kB)\n",
      "Requirement already satisfied: mujoco in /home/binh/miniconda3/envs/lelamp/lib/python3.13/site-packages (from brax) (3.3.4)\n",
      "Requirement already satisfied: mujoco-mjx in /home/binh/miniconda3/envs/lelamp/lib/python3.13/site-packages (from brax) (3.3.4)\n",
      "Requirement already satisfied: numpy in /home/binh/miniconda3/envs/lelamp/lib/python3.13/site-packages (from brax) (2.3.2)\n",
      "Collecting optax (from brax)\n",
      "  Using cached optax-0.2.5-py3-none-any.whl.metadata (7.5 kB)\n",
      "Collecting orbax-checkpoint (from brax)\n",
      "  Downloading orbax_checkpoint-0.11.20-py3-none-any.whl.metadata (2.3 kB)\n",
      "Collecting pillow (from brax)\n",
      "  Using cached pillow-11.3.0-cp313-cp313-manylinux_2_27_x86_64.manylinux_2_28_x86_64.whl.metadata (9.0 kB)\n",
      "Requirement already satisfied: scipy in /home/binh/miniconda3/envs/lelamp/lib/python3.13/site-packages (from brax) (1.16.1)\n",
      "Collecting tensorboardx (from brax)\n",
      "  Downloading tensorboardx-2.6.4-py3-none-any.whl.metadata (6.2 kB)\n",
      "Requirement already satisfied: trimesh in /home/binh/miniconda3/envs/lelamp/lib/python3.13/site-packages (from brax) (4.7.1)\n",
      "Requirement already satisfied: typing-extensions in /home/binh/miniconda3/envs/lelamp/lib/python3.13/site-packages (from brax) (4.12.2)\n",
      "Requirement already satisfied: ml_dtypes>=0.5.0 in /home/binh/miniconda3/envs/lelamp/lib/python3.13/site-packages (from jax>=0.4.6->brax) (0.5.3)\n",
      "Requirement already satisfied: opt_einsum in /home/binh/miniconda3/envs/lelamp/lib/python3.13/site-packages (from jax>=0.4.6->brax) (3.4.0)\n",
      "Collecting blinker>=1.9.0 (from flask->brax)\n",
      "  Using cached blinker-1.9.0-py3-none-any.whl.metadata (1.6 kB)\n",
      "Collecting click>=8.1.3 (from flask->brax)\n",
      "  Using cached click-8.2.1-py3-none-any.whl.metadata (2.5 kB)\n",
      "Collecting itsdangerous>=2.2.0 (from flask->brax)\n",
      "  Using cached itsdangerous-2.2.0-py3-none-any.whl.metadata (1.9 kB)\n",
      "Requirement already satisfied: markupsafe>=2.1.1 in /home/binh/miniconda3/envs/lelamp/lib/python3.13/site-packages (from flask->brax) (3.0.2)\n",
      "Collecting werkzeug>=3.1.0 (from flask->brax)\n",
      "  Using cached werkzeug-3.1.3-py3-none-any.whl.metadata (3.7 kB)\n",
      "Collecting msgpack (from flax->brax)\n",
      "  Downloading msgpack-1.1.1-cp313-cp313-manylinux_2_17_x86_64.manylinux2014_x86_64.whl.metadata (8.4 kB)\n",
      "Collecting tensorstore (from flax->brax)\n",
      "  Downloading tensorstore-0.1.76-cp313-cp313-manylinux_2_17_x86_64.manylinux2014_x86_64.whl.metadata (21 kB)\n",
      "Collecting rich>=11.1 (from flax->brax)\n",
      "  Downloading rich-14.1.0-py3-none-any.whl.metadata (18 kB)\n",
      "Requirement already satisfied: PyYAML>=5.4.1 in /home/binh/miniconda3/envs/lelamp/lib/python3.13/site-packages (from flax->brax) (6.0.2)\n",
      "Collecting treescope>=0.1.7 (from flax->brax)\n",
      "  Downloading treescope-0.1.9-py3-none-any.whl.metadata (6.6 kB)\n",
      "Collecting markdown-it-py>=2.2.0 (from rich>=11.1->flax->brax)\n",
      "  Using cached markdown_it_py-3.0.0-py3-none-any.whl.metadata (6.9 kB)\n",
      "Requirement already satisfied: pygments<3.0.0,>=2.13.0 in /home/binh/miniconda3/envs/lelamp/lib/python3.13/site-packages (from rich>=11.1->flax->brax) (2.19.1)\n",
      "Collecting mdurl~=0.1 (from markdown-it-py>=2.2.0->rich>=11.1->flax->brax)\n",
      "  Using cached mdurl-0.1.2-py3-none-any.whl.metadata (1.6 kB)\n",
      "Requirement already satisfied: glfw in /home/binh/miniconda3/envs/lelamp/lib/python3.13/site-packages (from mujoco->brax) (2.9.0)\n",
      "Requirement already satisfied: pyopengl in /home/binh/miniconda3/envs/lelamp/lib/python3.13/site-packages (from mujoco->brax) (3.1.9)\n",
      "Requirement already satisfied: fsspec in /home/binh/miniconda3/envs/lelamp/lib/python3.13/site-packages (from etils[epath]->mujoco->brax) (2025.7.0)\n",
      "Requirement already satisfied: importlib_resources in /home/binh/miniconda3/envs/lelamp/lib/python3.13/site-packages (from etils[epath]->mujoco->brax) (6.5.2)\n",
      "Requirement already satisfied: zipp in /home/binh/miniconda3/envs/lelamp/lib/python3.13/site-packages (from etils[epath]->mujoco->brax) (3.23.0)\n",
      "Collecting chex>=0.1.87 (from optax->brax)\n",
      "  Downloading chex-0.1.90-py3-none-any.whl.metadata (18 kB)\n",
      "Requirement already satisfied: setuptools in /home/binh/miniconda3/envs/lelamp/lib/python3.13/site-packages (from chex>=0.1.87->optax->brax) (78.1.1)\n",
      "Collecting toolz>=0.9.0 (from chex>=0.1.87->optax->brax)\n",
      "  Using cached toolz-1.0.0-py3-none-any.whl.metadata (5.1 kB)\n",
      "Requirement already satisfied: nest_asyncio in /home/binh/miniconda3/envs/lelamp/lib/python3.13/site-packages (from orbax-checkpoint->brax) (1.6.0)\n",
      "Collecting aiofiles (from orbax-checkpoint->brax)\n",
      "  Using cached aiofiles-24.1.0-py3-none-any.whl.metadata (10 kB)\n",
      "Collecting protobuf (from orbax-checkpoint->brax)\n",
      "  Using cached protobuf-6.31.1-cp39-abi3-manylinux2014_x86_64.whl.metadata (593 bytes)\n",
      "Collecting humanize (from orbax-checkpoint->brax)\n",
      "  Using cached humanize-4.12.3-py3-none-any.whl.metadata (7.8 kB)\n",
      "Collecting simplejson>=3.16.0 (from orbax-checkpoint->brax)\n",
      "  Downloading simplejson-3.20.1-cp313-cp313-manylinux_2_5_x86_64.manylinux1_x86_64.manylinux_2_17_x86_64.manylinux2014_x86_64.whl.metadata (3.3 kB)\n",
      "Requirement already satisfied: packaging in /home/binh/miniconda3/envs/lelamp/lib/python3.13/site-packages (from tensorboardx->brax) (25.0)\n",
      "Downloading brax-0.12.4-py3-none-any.whl (341 kB)\n",
      "Using cached flask-3.1.1-py3-none-any.whl (103 kB)\n",
      "Using cached blinker-1.9.0-py3-none-any.whl (8.5 kB)\n",
      "Using cached click-8.2.1-py3-none-any.whl (102 kB)\n",
      "Using cached itsdangerous-2.2.0-py3-none-any.whl (16 kB)\n",
      "Using cached werkzeug-3.1.3-py3-none-any.whl (224 kB)\n",
      "Downloading flask_cors-6.0.1-py3-none-any.whl (13 kB)\n",
      "Downloading flax-0.11.0-py3-none-any.whl (455 kB)\n",
      "Downloading rich-14.1.0-py3-none-any.whl (243 kB)\n",
      "Using cached markdown_it_py-3.0.0-py3-none-any.whl (87 kB)\n",
      "Using cached mdurl-0.1.2-py3-none-any.whl (10.0 kB)\n",
      "Downloading treescope-0.1.9-py3-none-any.whl (182 kB)\n",
      "Downloading jaxopt-0.8.5-py3-none-any.whl (172 kB)\n",
      "Downloading ml_collections-1.1.0-py3-none-any.whl (76 kB)\n",
      "Downloading msgpack-1.1.1-cp313-cp313-manylinux_2_17_x86_64.manylinux2014_x86_64.whl (423 kB)\n",
      "Using cached optax-0.2.5-py3-none-any.whl (354 kB)\n",
      "Downloading chex-0.1.90-py3-none-any.whl (101 kB)\n",
      "Using cached toolz-1.0.0-py3-none-any.whl (56 kB)\n",
      "Downloading orbax_checkpoint-0.11.20-py3-none-any.whl (510 kB)\n",
      "Downloading simplejson-3.20.1-cp313-cp313-manylinux_2_5_x86_64.manylinux1_x86_64.manylinux_2_17_x86_64.manylinux2014_x86_64.whl (152 kB)\n",
      "Downloading tensorstore-0.1.76-cp313-cp313-manylinux_2_17_x86_64.manylinux2014_x86_64.whl (18.9 MB)\n",
      "\u001b[2K   \u001b[90m━━━━━━━━━━━━━━━━━━━━━━━━━━━━━━━━━━━━━━━━\u001b[0m \u001b[32m18.9/18.9 MB\u001b[0m \u001b[31m86.7 MB/s\u001b[0m eta \u001b[36m0:00:00\u001b[0m:00:01\u001b[0m\n",
      "\u001b[?25hUsing cached aiofiles-24.1.0-py3-none-any.whl (15 kB)\n",
      "Using cached humanize-4.12.3-py3-none-any.whl (128 kB)\n",
      "Using cached pillow-11.3.0-cp313-cp313-manylinux_2_27_x86_64.manylinux_2_28_x86_64.whl (6.6 MB)\n",
      "Using cached protobuf-6.31.1-cp39-abi3-manylinux2014_x86_64.whl (321 kB)\n",
      "Downloading tensorboardx-2.6.4-py3-none-any.whl (87 kB)\n",
      "Installing collected packages: werkzeug, treescope, toolz, simplejson, protobuf, pillow, msgpack, ml-collections, mdurl, itsdangerous, humanize, click, blinker, aiofiles, tensorstore, tensorboardx, markdown-it-py, flask, rich, flask-cors, orbax-checkpoint, jaxopt, chex, optax, flax, brax\n",
      "\u001b[2K   \u001b[90m━━━━━━━━━━━━━━━━━━━━━━━━━━━━━━━━━━━━━━━━\u001b[0m \u001b[32m26/26\u001b[0m [brax]2m25/26\u001b[0m [brax]]]heckpoint]\n",
      "\u001b[1A\u001b[2KSuccessfully installed aiofiles-24.1.0 blinker-1.9.0 brax-0.12.4 chex-0.1.90 click-8.2.1 flask-3.1.1 flask-cors-6.0.1 flax-0.11.0 humanize-4.12.3 itsdangerous-2.2.0 jaxopt-0.8.5 markdown-it-py-3.0.0 mdurl-0.1.2 ml-collections-1.1.0 msgpack-1.1.1 optax-0.2.5 orbax-checkpoint-0.11.20 pillow-11.3.0 protobuf-6.31.1 rich-14.1.0 simplejson-3.20.1 tensorboardx-2.6.4 tensorstore-0.1.76 toolz-1.0.0 treescope-0.1.9 werkzeug-3.1.3\n"
     ]
    }
   ],
   "source": [
    "!pip install mujoco\n",
    "!pip install mujoco_mjx\n",
    "!pip install brax"
   ]
  },
  {
   "cell_type": "markdown",
   "id": "d19aaf00",
   "metadata": {},
   "source": [
    "## Import packages for plotting and creating graphics"
   ]
  },
  {
   "cell_type": "code",
   "execution_count": null,
   "id": "697428ff",
   "metadata": {},
   "outputs": [
    {
     "name": "stdout",
     "output_type": "stream",
     "text": [
      "Installing mediapy:\n"
     ]
    }
   ],
   "source": [
    "import time\n",
    "import itertools\n",
    "import numpy as np\n",
    "from typing import Callable, NamedTuple, Optional, Union, List\n",
    "\n",
    "# Graphics and plotting.\n",
    "print('Installing mediapy:')\n",
    "!command -v ffmpeg >/dev/null || (apt update && apt install -y ffmpeg)\n",
    "!pip install -q mediapy\n",
    "import mediapy as media\n",
    "import matplotlib.pyplot as plt\n",
    "\n",
    "# More legible printing from numpy.\n",
    "np.set_printoptions(precision=3, suppress=True, linewidth=100)"
   ]
  },
  {
   "cell_type": "markdown",
   "id": "0ea7f4dd",
   "metadata": {},
   "source": [
    "## Import Mujoco, MJX, and Brax"
   ]
  },
  {
   "cell_type": "code",
   "execution_count": 5,
   "id": "98b72959",
   "metadata": {},
   "outputs": [],
   "source": [
    "from datetime import datetime\n",
    "from etils import epath\n",
    "import functools\n",
    "from IPython.display import HTML\n",
    "from typing import Any, Dict, Sequence, Tuple, Union\n",
    "import os\n",
    "from ml_collections import config_dict\n",
    "\n",
    "\n",
    "import jax\n",
    "from jax import numpy as jp\n",
    "import numpy as np\n",
    "from flax.training import orbax_utils\n",
    "from flax import struct\n",
    "from matplotlib import pyplot as plt\n",
    "import mediapy as media\n",
    "from orbax import checkpoint as ocp\n",
    "\n",
    "import mujoco\n",
    "from mujoco import mjx\n",
    "\n",
    "from brax import base\n",
    "from brax import envs\n",
    "from brax import math\n",
    "from brax.base import Base, Motion, Transform\n",
    "from brax.base import State as PipelineState\n",
    "from brax.envs.base import Env, PipelineEnv, State\n",
    "from brax.mjx.base import State as MjxState\n",
    "from brax.training.agents.ppo import train as ppo\n",
    "from brax.training.agents.ppo import networks as ppo_networks\n",
    "from brax.io import html, mjcf, model\n"
   ]
  },
  {
   "cell_type": "markdown",
   "id": "62e85562",
   "metadata": {},
   "source": [
    "# Model Import"
   ]
  },
  {
   "cell_type": "markdown",
   "id": "3858cde3",
   "metadata": {},
   "source": [
    "Import LeLamp Mujoco Model"
   ]
  },
  {
   "cell_type": "code",
   "execution_count": 11,
   "id": "c6aefa2a",
   "metadata": {},
   "outputs": [
    {
     "data": {
      "text/plain": [
       "6"
      ]
     },
     "execution_count": 11,
     "metadata": {},
     "output_type": "execute_result"
    }
   ],
   "source": [
    "mj_model = mujoco.MjModel.from_xml_path('../models/lelamp/scene.xml')\n",
    "\n",
    "# See number of joints in the model\n",
    "mj_model.njnt"
   ]
  },
  {
   "cell_type": "code",
   "execution_count": null,
   "id": "469491c2",
   "metadata": {},
   "outputs": [
    {
     "data": {
      "text/plain": [
       "array([0., 0., 0., 1., 0., 0., 0., 0., 0., 0., 0., 0.])"
      ]
     },
     "execution_count": 13,
     "metadata": {},
     "output_type": "execute_result"
    }
   ],
   "source": [
    "mj_data = mujoco.MjData(mj_model)\n",
    "\n",
    "# See number of joints in the data\n",
    "mj_data.qpos"
   ]
  },
  {
   "cell_type": "code",
   "execution_count": null,
   "id": "4fcb4038",
   "metadata": {},
   "outputs": [],
   "source": []
  }
 ],
 "metadata": {
  "kernelspec": {
   "display_name": "lelamp",
   "language": "python",
   "name": "python3"
  },
  "language_info": {
   "codemirror_mode": {
    "name": "ipython",
    "version": 3
   },
   "file_extension": ".py",
   "mimetype": "text/x-python",
   "name": "python",
   "nbconvert_exporter": "python",
   "pygments_lexer": "ipython3",
   "version": "3.13.5"
  }
 },
 "nbformat": 4,
 "nbformat_minor": 5
}
